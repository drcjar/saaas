{
 "metadata": {
  "name": "",
  "signature": "sha256:7df62af35c49e3661f01f45dbbd05355f1183038609cd4f3f2192e6eefc8b5a2"
 },
 "nbformat": 3,
 "nbformat_minor": 0,
 "worksheets": [
  {
   "cells": [
    {
     "cell_type": "heading",
     "level": 1,
     "metadata": {},
     "source": [
      "Herein we re-implement stata codes from Tom Yates before re-re-implementing in javascripts"
     ]
    },
    {
     "cell_type": "code",
     "collapsed": false,
     "input": [
      "import pandas\n",
      "import pandas as pd"
     ],
     "language": "python",
     "metadata": {},
     "outputs": [],
     "prompt_number": 1
    },
    {
     "cell_type": "code",
     "collapsed": false,
     "input": [
      "df = pd.read_excel('Final_data.xlsx')"
     ],
     "language": "python",
     "metadata": {},
     "outputs": [],
     "prompt_number": 2
    },
    {
     "cell_type": "code",
     "collapsed": false,
     "input": [
      "df.rename(columns={'Indoor/Outdoor':'InOut'}, inplace=True)"
     ],
     "language": "python",
     "metadata": {},
     "outputs": [],
     "prompt_number": 3
    },
    {
     "cell_type": "code",
     "collapsed": false,
     "input": [
      "df.InOut = df.InOut.astype(str).replace('1', 'temp1')\n",
      "df.InOut = df.InOut.astype(str).replace('0', 'temp0')\n",
      "df.InOut = df.InOut.astype(str).replace('temp1', '0')\n",
      "df.InOut = df.InOut.astype(str).replace('temp0', '1')\n",
      "df.InOut = df.InOut.astype(int)\n",
      "InOut_lookup = {0:'little contact', 1:'indoor contact', 2:'unknown'}\n",
      "#probably a more elegant way of doing this! switch 1s and 0s to fix a coding bug (I think..). 0=little cont 1=indoor cont 2=unknown"
     ],
     "language": "python",
     "metadata": {},
     "outputs": [],
     "prompt_number": 4
    },
    {
     "cell_type": "code",
     "collapsed": false,
     "input": [
      "Social_class_lookup = {1:'Highest', 8:'Lowest'}"
     ],
     "language": "python",
     "metadata": {},
     "outputs": [],
     "prompt_number": 5
    },
    {
     "cell_type": "code",
     "collapsed": false,
     "input": [
      "df['Age_cat'] = df.Age\n",
      "df['Age_cat'] = df['Age_cat'].str.replace('15-19', '1')\n",
      "df['Age_cat'] = df['Age_cat'].str.replace('20-24', '2')\n",
      "df['Age_cat'] = df['Age_cat'].str.replace('25-34', '3')\n",
      "df['Age_cat'] = df['Age_cat'].str.replace('35-44', '4')\n",
      "df['Age_cat'] = df['Age_cat'].str.replace('45-54', '5')\n",
      "df['Age_cat'] = df['Age_cat'].str.replace('55-64', '6')\n",
      "df['Age_cat'] = df['Age_cat'].str.replace('>65', '7')\n",
      "df['Age_cat'] = df['Age_cat'].str.replace('65-74', '8')\n",
      "df['Age_cat'] = df['Age_cat'].str.replace('>75', '9')\n",
      "\n",
      "#add an age_cat to frame and populate it\n",
      "#nb could also have just defined a dict of transforms and mapped em "
     ],
     "language": "python",
     "metadata": {},
     "outputs": [],
     "prompt_number": 6
    },
    {
     "cell_type": "code",
     "collapsed": false,
     "input": [
      "df.groupby('Age_cat').Denominator.sum() #how many peeps in each cat"
     ],
     "language": "python",
     "metadata": {},
     "outputs": [
      {
       "metadata": {},
       "output_type": "pyout",
       "prompt_number": 8,
       "text": [
        "Age_cat\n",
        "1          15050775\n",
        "2          13587395\n",
        "3          23355996\n",
        "4          18547351\n",
        "5          13384807\n",
        "6           8077200\n",
        "7           2558773\n",
        "8           1655121\n",
        "9            467475\n",
        "Name: Denominator, dtype: int64"
       ]
      }
     ],
     "prompt_number": 8
    },
    {
     "cell_type": "code",
     "collapsed": false,
     "input": [
      "df[df['InOut'] == 1].groupby('Age_cat').Denominator.sum() #peeps in exposed cat"
     ],
     "language": "python",
     "metadata": {},
     "outputs": [
      {
       "metadata": {},
       "output_type": "pyout",
       "prompt_number": 15,
       "text": [
        "Age_cat\n",
        "1          4031433\n",
        "2          3421779\n",
        "3          5511114\n",
        "4          4158945\n",
        "5          2714637\n",
        "6          1458954\n",
        "7           283525\n",
        "8           289503\n",
        "9            69087\n",
        "Name: Denominator, dtype: int64"
       ]
      }
     ],
     "prompt_number": 15
    },
    {
     "cell_type": "code",
     "collapsed": false,
     "input": [
      "df[df['InOut'] == 0].groupby('Age_cat').Denominator.sum() #peeps not in exposed cat"
     ],
     "language": "python",
     "metadata": {},
     "outputs": [
      {
       "metadata": {},
       "output_type": "pyout",
       "prompt_number": 16,
       "text": [
        "Age_cat\n",
        "1          2928405\n",
        "2          2577894\n",
        "3          4615440\n",
        "4          3909909\n",
        "5          3129471\n",
        "6          2198451\n",
        "7          1106296\n",
        "8           413484\n",
        "9           144957\n",
        "Name: Denominator, dtype: int64"
       ]
      }
     ],
     "prompt_number": 16
    },
    {
     "cell_type": "code",
     "collapsed": false,
     "input": [
      "Den65 = df[df['Age_cat'] >= '8'].groupby('Occupation').Denominator.sum()"
     ],
     "language": "python",
     "metadata": {},
     "outputs": [],
     "prompt_number": 25
    },
    {
     "cell_type": "code",
     "collapsed": false,
     "input": [
      "Den65 = df[df['Age_cat'] >= '8'].groupby('Occupation').Denominator.sum()"
     ],
     "language": "python",
     "metadata": {},
     "outputs": []
    }
   ],
   "metadata": {}
  }
 ]
}