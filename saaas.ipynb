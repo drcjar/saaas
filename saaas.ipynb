{
 "metadata": {
  "name": "",
  "signature": "sha256:0bafedb15089bbc348192968154d7a86aa33bc6b974a9defb0ce96c197342d4b"
 },
 "nbformat": 3,
 "nbformat_minor": 0,
 "worksheets": [
  {
   "cells": [
    {
     "cell_type": "heading",
     "level": 1,
     "metadata": {},
     "source": [
      "Herein we re-implement stata codes from Tom Yates before re-re-implementing in javascripts"
     ]
    },
    {
     "cell_type": "code",
     "collapsed": true,
     "input": [
      "import pandas\n",
      "import pandas as pd\n",
      "from pandas import DataFrame\n",
      "import statsmodels.api as sm\n",
      "from patsy import dmatrices, dmatrix"
     ],
     "language": "python",
     "metadata": {},
     "outputs": [],
     "prompt_number": 1
    },
    {
     "cell_type": "code",
     "collapsed": false,
     "input": [
      "df = pd.read_excel('Final_data.xlsx')"
     ],
     "language": "python",
     "metadata": {},
     "outputs": [],
     "prompt_number": 2
    },
    {
     "cell_type": "code",
     "collapsed": false,
     "input": [
      "df.rename(columns={'Indoor/Outdoor':'InOut'}, inplace=True)"
     ],
     "language": "python",
     "metadata": {},
     "outputs": [],
     "prompt_number": 3
    },
    {
     "cell_type": "code",
     "collapsed": false,
     "input": [
      "df.shape"
     ],
     "language": "python",
     "metadata": {},
     "outputs": [
      {
       "metadata": {},
       "output_type": "pyout",
       "prompt_number": 4,
       "text": [
        "(3189, 8)"
       ]
      }
     ],
     "prompt_number": 4
    },
    {
     "cell_type": "code",
     "collapsed": false,
     "input": [
      "#define the transforms\n",
      "iofix = {1:0, 0:1, 2:2} #Fix InOut coding bug. 0 = little contact, 1 = indoor contact\n",
      "\n",
      "agecat = {'15-19':'1',  #agecat tranforms\n",
      "           '20-24':'2', \n",
      "           '25-34':'3', \n",
      "           '35-44':'4',\n",
      "           '45-54':'5', \n",
      "           '55-64':'6', \n",
      "           '>65':'7', \n",
      "           '65-74':'7', \n",
      "           '>75':'8'}\n",
      "\n",
      "socialcat = {1:1, 2:1, 3:2, 4:2, #socialcat transforms\n",
      "             5:2, 6:2, 7:2, 8:2} \n",
      "\n",
      "#define the lookups\n",
      "io_lookup = {0:'Little indoor contact', 1:'Indoor contact', 2:'Uncategorized'}\n",
      "\n",
      "socialcat_lookup = {1:'Highest', 2:'Lowest'}\n"
     ],
     "language": "python",
     "metadata": {},
     "outputs": [],
     "prompt_number": 5
    },
    {
     "cell_type": "code",
     "collapsed": false,
     "input": [
      "#apply the transforms\n",
      "df['InOut'] = df['InOut'].map(iofix.get)\n",
      "\n",
      "df['Age_cat'] = df['Age'].map(agecat.get)\n",
      "df['Social_cat'] = df['Social_class'].map(socialcat.get)\n",
      "\n",
      "#make Data_year column values be integers\n",
      "df['Year'] = df['Data_year'].astype(str).str[:4]\n",
      "df['Year'] = df['Year'].astype(int)\n",
      "\n",
      "#throw away over 75s\n",
      "df = df[~(df['Age_cat'] == '8')]"
     ],
     "language": "python",
     "metadata": {},
     "outputs": [],
     "prompt_number": 6
    },
    {
     "cell_type": "code",
     "collapsed": false,
     "input": [
      "df.shape"
     ],
     "language": "python",
     "metadata": {},
     "outputs": [
      {
       "metadata": {},
       "output_type": "pyout",
       "prompt_number": 7,
       "text": [
        "(3018, 11)"
       ]
      }
     ],
     "prompt_number": 7
    },
    {
     "cell_type": "code",
     "collapsed": false,
     "input": [
      "#Calculating number of people in each age group\n",
      "df.groupby('Age_cat').Denominator.sum() "
     ],
     "language": "python",
     "metadata": {},
     "outputs": [
      {
       "metadata": {},
       "output_type": "pyout",
       "prompt_number": 8,
       "text": [
        "Age_cat\n",
        "1          15050775\n",
        "2          13587395\n",
        "3          23355996\n",
        "4          18547351\n",
        "5          13384807\n",
        "6           8077200\n",
        "7           4213894\n",
        "Name: Denominator, dtype: int64"
       ]
      }
     ],
     "prompt_number": 8
    },
    {
     "cell_type": "code",
     "collapsed": false,
     "input": [
      "df.shape"
     ],
     "language": "python",
     "metadata": {},
     "outputs": [
      {
       "metadata": {},
       "output_type": "pyout",
       "prompt_number": 9,
       "text": [
        "(3018, 11)"
       ]
      }
     ],
     "prompt_number": 9
    },
    {
     "cell_type": "code",
     "collapsed": false,
     "input": [
      "#make two occupations that we think are the same be the same\n",
      "df.Occupation = df.Occupation.str.replace('Tallow, soap, &c., manufacture', 'Tallow, soap manufacture')\n",
      "df.Occupation = df.Occupation.str.replace('Tallow, soap, glue, manure, &c., manufacture', 'Tallow, soap manufacture')"
     ],
     "language": "python",
     "metadata": {},
     "outputs": [],
     "prompt_number": 10
    },
    {
     "cell_type": "code",
     "collapsed": false,
     "input": [
      "#lets have a look at what we're about to throw away...\n",
      "df[df.duplicated(subset=['Occupation', 'Age_cat', 'Year'], take_last=False)].to_csv('thrownaway.csv')\n",
      "df[df.duplicated(subset=['Occupation', 'Age_cat', 'Year'], take_last=True)].to_csv('kept.csv')"
     ],
     "language": "python",
     "metadata": {},
     "outputs": [],
     "prompt_number": 11
    },
    {
     "cell_type": "code",
     "collapsed": false,
     "input": [
      "df = df.drop_duplicates(subset=['Occupation', 'Age_cat', 'Year']) #drop occ/age_cat/year duplicates"
     ],
     "language": "python",
     "metadata": {},
     "outputs": [],
     "prompt_number": 12
    },
    {
     "cell_type": "code",
     "collapsed": false,
     "input": [
      "df.shape"
     ],
     "language": "python",
     "metadata": {},
     "outputs": [
      {
       "metadata": {},
       "output_type": "pyout",
       "prompt_number": 13,
       "text": [
        "(2989, 11)"
       ]
      }
     ],
     "prompt_number": 13
    },
    {
     "cell_type": "code",
     "collapsed": false,
     "input": [
      "#list extraneous occupations \n",
      "extocc = [\"Coal miner (Durham and Northumberland)\", \"Coal miner (Lancashire)\", \"Coal miner (West Riding)\",\n",
      "          \"Coal miner (Derbyshire and Nottinghamshire)\", \n",
      "          \"Coal miner (Staffordshire)\", \"Coal miner (Monmouthshire and South Wales)\", \n",
      "          \"Wool, worsted, manufacture (West Riding)\", \n",
      "          \"Innkeeper, &c. (London)\", \n",
      "          \"Innkeeper, &c. (industrial districts)\", \"Innkeeper, &c. (rural districts)\", \n",
      "          \"Inn, hotel, servant (London)\", \"Inn, hotel, servant (industrial districts)\",\n",
      "          \"Inn, hotel, servant (rural districts)\", \"Engine, machine-maker, fitter; millwright\",\n",
      "          \"Boiler maker\", \"Copper worker\", \"Tin, tin-plate, worker\",\n",
      "          \"Zinc worker\", \"Lead worker\", \"Brass, bronze-worker\", \n",
      "          \"Cotton, flax, linen, manufacture (Lancashire)\",\n",
      "          \"Hosiery manufacture (Leicestershire and Nottinghamshire)\", \"General labourer (London)\",\n",
      "          \"General labourer (industrial districts)\", \n",
      "          \"Stone getters, dressers; masons (counties producing granites)\",\n",
      "          \"Stone getters, dressers; masons (counties producing limestones)\",\n",
      "          \"Stone getters, dressers; masons (counties producing sandstones)\",\n",
      "          \"Copper manuf. (Camarthenshire & Glamorganshire)\", \n",
      "          \"Coppersmiths, copper worker (counties without Copper Smelting)\",\n",
      "          \"Tailors (in certain Boroughs with factories)\", \n",
      "          \"Tailors (Bethnal Green & Stepney)\", \"Watch, clock, maker\", \"Tallow, soap, &c., manufacture\",\n",
      "          \"Cutler, scissors maker\", \"File maker\",\n",
      "          \"Patten, clog - makers (Lancashire)\", \n",
      "          \"Boot, shoe, slipper - makers (Northamptonshire and Leicestershire)\", \n",
      "          \"Felt hat manufacture (Cheshire)\", \n",
      "          \"Printers - hand compositors\", \"Printers - machine compositors; stereotypers, electrotypers\",\n",
      "          \"Stationery, &c. - manufacture\", \"Leather goods, portmanteau - makers\", \n",
      "          \"Jewellers (Staffordshire, Worcestershire, Warwickshire)\", \"Shipbuilding - workers in iron\",\n",
      "          \"Shipbuilding - workers in wood\", \"Ironfounders\", \"Stove, grate, bedstead - makers\",\n",
      "          \"Patternmaker\", \"Millwrights, fitters, turners\", \n",
      "          \"Iron - miners, quarriers (Cumberland & Lancashire)\",\n",
      "          \"Domestic coachman, groom\"]\n"
     ],
     "language": "python",
     "metadata": {},
     "outputs": [],
     "prompt_number": 14
    },
    {
     "cell_type": "code",
     "collapsed": false,
     "input": [
      "df = df[~df.Occupation.isin(extocc)] #drop extraneous occupations"
     ],
     "language": "python",
     "metadata": {},
     "outputs": [],
     "prompt_number": 15
    },
    {
     "cell_type": "code",
     "collapsed": false,
     "input": [
      "#drop more extraneous occupations\n",
      "df = df[~((df.Occupation.str.contains('Brass')) & (df.Year == 1900))]\n",
      "df = df[~((df.Occupation.str.contains('Lithographer')) & (df.Year == 1900))]\n"
     ],
     "language": "python",
     "metadata": {},
     "outputs": [],
     "prompt_number": 16
    },
    {
     "cell_type": "code",
     "collapsed": false,
     "input": [
      "df.shape"
     ],
     "language": "python",
     "metadata": {},
     "outputs": [
      {
       "metadata": {},
       "output_type": "pyout",
       "prompt_number": 17,
       "text": [
        "(2354, 11)"
       ]
      }
     ],
     "prompt_number": 17
    },
    {
     "cell_type": "code",
     "collapsed": false,
     "input": [
      "df['Rate'] = (df['Mortality'] / df['Denominator']) * 1000\n",
      "\n",
      "\n",
      "#throw away the result of dividing 0 by 0 for age groups of occupations with no people in them\n",
      "df = df[df['Rate'] != inf]"
     ],
     "language": "python",
     "metadata": {},
     "outputs": [],
     "prompt_number": 18
    },
    {
     "cell_type": "code",
     "collapsed": false,
     "input": [
      "#roll up by occupation, summing mortality and denominator and re-calculating rate\n",
      "df1 = df[['Occupation', 'Mortality', 'Denominator']].groupby('Occupation').sum()\n",
      "df1['Rate'] = (df1['Mortality'] / df1['Denominator']) * 1000\n",
      "df1.head()\n"
     ],
     "language": "python",
     "metadata": {},
     "outputs": [
      {
       "html": [
        "<div style=\"max-height:1000px;max-width:1500px;overflow:auto;\">\n",
        "<table border=\"1\" class=\"dataframe\">\n",
        "  <thead>\n",
        "    <tr style=\"text-align: right;\">\n",
        "      <th></th>\n",
        "      <th>Mortality</th>\n",
        "      <th>Denominator</th>\n",
        "      <th>Rate</th>\n",
        "    </tr>\n",
        "    <tr>\n",
        "      <th>Occupation</th>\n",
        "      <th></th>\n",
        "      <th></th>\n",
        "      <th></th>\n",
        "    </tr>\n",
        "  </thead>\n",
        "  <tbody>\n",
        "    <tr>\n",
        "      <th>Anchor, chain manufacture; blacksmith</th>\n",
        "      <td>  571</td>\n",
        "      <td> 398544</td>\n",
        "      <td> 1.432715</td>\n",
        "    </tr>\n",
        "    <tr>\n",
        "      <th>Artist, engraver, sculptor, architect</th>\n",
        "      <td>  337</td>\n",
        "      <td> 178909</td>\n",
        "      <td> 1.883639</td>\n",
        "    </tr>\n",
        "    <tr>\n",
        "      <th>Baker, confectioner</th>\n",
        "      <td> 1614</td>\n",
        "      <td> 930327</td>\n",
        "      <td> 1.734874</td>\n",
        "    </tr>\n",
        "    <tr>\n",
        "      <th>Bankers, bank officials, clerks</th>\n",
        "      <td>  109</td>\n",
        "      <td> 126618</td>\n",
        "      <td> 0.860857</td>\n",
        "    </tr>\n",
        "    <tr>\n",
        "      <th>Bargeman, lighterman, waterman</th>\n",
        "      <td>  515</td>\n",
        "      <td> 262890</td>\n",
        "      <td> 1.958994</td>\n",
        "    </tr>\n",
        "  </tbody>\n",
        "</table>\n",
        "</div>"
       ],
       "metadata": {},
       "output_type": "pyout",
       "prompt_number": 19,
       "text": [
        "                                       Mortality  Denominator      Rate\n",
        "Occupation                                                             \n",
        "Anchor, chain manufacture; blacksmith        571       398544  1.432715\n",
        "Artist, engraver, sculptor, architect        337       178909  1.883639\n",
        "Baker, confectioner                         1614       930327  1.734874\n",
        "Bankers, bank officials, clerks              109       126618  0.860857\n",
        "Bargeman, lighterman, waterman               515       262890  1.958994"
       ]
      }
     ],
     "prompt_number": 19
    },
    {
     "cell_type": "code",
     "collapsed": false,
     "input": [
      "df1.sort(columns='Rate').tail(5)"
     ],
     "language": "python",
     "metadata": {},
     "outputs": [
      {
       "html": [
        "<div style=\"max-height:1000px;max-width:1500px;overflow:auto;\">\n",
        "<table border=\"1\" class=\"dataframe\">\n",
        "  <thead>\n",
        "    <tr style=\"text-align: right;\">\n",
        "      <th></th>\n",
        "      <th>Mortality</th>\n",
        "      <th>Denominator</th>\n",
        "      <th>Rate</th>\n",
        "    </tr>\n",
        "    <tr>\n",
        "      <th>Occupation</th>\n",
        "      <th></th>\n",
        "      <th></th>\n",
        "      <th></th>\n",
        "    </tr>\n",
        "  </thead>\n",
        "  <tbody>\n",
        "    <tr>\n",
        "      <th>Copper miner</th>\n",
        "      <td>   25</td>\n",
        "      <td>   5571</td>\n",
        "      <td> 4.487525</td>\n",
        "    </tr>\n",
        "    <tr>\n",
        "      <th>Inn, hotel-servant</th>\n",
        "      <td> 1253</td>\n",
        "      <td> 276330</td>\n",
        "      <td> 4.534433</td>\n",
        "    </tr>\n",
        "    <tr>\n",
        "      <th>Lead miner</th>\n",
        "      <td>  179</td>\n",
        "      <td>  38880</td>\n",
        "      <td> 4.603909</td>\n",
        "    </tr>\n",
        "    <tr>\n",
        "      <th>Costermonger, hawker, &amp;c</th>\n",
        "      <td> 2267</td>\n",
        "      <td> 431769</td>\n",
        "      <td> 5.250493</td>\n",
        "    </tr>\n",
        "    <tr>\n",
        "      <th>Tin miner</th>\n",
        "      <td>  454</td>\n",
        "      <td>  67872</td>\n",
        "      <td> 6.689062</td>\n",
        "    </tr>\n",
        "  </tbody>\n",
        "</table>\n",
        "</div>"
       ],
       "metadata": {},
       "output_type": "pyout",
       "prompt_number": 20,
       "text": [
        "                          Mortality  Denominator      Rate\n",
        "Occupation                                                \n",
        "Copper miner                     25         5571  4.487525\n",
        "Inn, hotel-servant             1253       276330  4.534433\n",
        "Lead miner                      179        38880  4.603909\n",
        "Costermonger, hawker, &c       2267       431769  5.250493\n",
        "Tin miner                       454        67872  6.689062"
       ]
      }
     ],
     "prompt_number": 20
    },
    {
     "cell_type": "code",
     "collapsed": false,
     "input": [
      "df.groupby('Social_cat').sum()"
     ],
     "language": "python",
     "metadata": {},
     "outputs": [
      {
       "html": [
        "<div style=\"max-height:1000px;max-width:1500px;overflow:auto;\">\n",
        "<table border=\"1\" class=\"dataframe\">\n",
        "  <thead>\n",
        "    <tr style=\"text-align: right;\">\n",
        "      <th></th>\n",
        "      <th>ID</th>\n",
        "      <th>Mortality</th>\n",
        "      <th>Denominator</th>\n",
        "      <th>Social_class</th>\n",
        "      <th>InOut</th>\n",
        "      <th>Year</th>\n",
        "      <th>Rate</th>\n",
        "    </tr>\n",
        "    <tr>\n",
        "      <th>Social_cat</th>\n",
        "      <th></th>\n",
        "      <th></th>\n",
        "      <th></th>\n",
        "      <th></th>\n",
        "      <th></th>\n",
        "      <th></th>\n",
        "      <th></th>\n",
        "    </tr>\n",
        "  </thead>\n",
        "  <tbody>\n",
        "    <tr>\n",
        "      <th>1</th>\n",
        "      <td>  876117</td>\n",
        "      <td>  36635</td>\n",
        "      <td> 19845403</td>\n",
        "      <td> 1080</td>\n",
        "      <td> 1127</td>\n",
        "      <td> 1254550</td>\n",
        "      <td> 1184.692883</td>\n",
        "    </tr>\n",
        "    <tr>\n",
        "      <th>2</th>\n",
        "      <td> 2738342</td>\n",
        "      <td> 127865</td>\n",
        "      <td> 62407383</td>\n",
        "      <td> 7452</td>\n",
        "      <td> 2467</td>\n",
        "      <td> 3211260</td>\n",
        "      <td> 3904.183725</td>\n",
        "    </tr>\n",
        "  </tbody>\n",
        "</table>\n",
        "</div>"
       ],
       "metadata": {},
       "output_type": "pyout",
       "prompt_number": 21,
       "text": [
        "                 ID  Mortality  Denominator  Social_class  InOut     Year  \\\n",
        "Social_cat                                                                  \n",
        "1            876117      36635     19845403          1080   1127  1254550   \n",
        "2           2738342     127865     62407383          7452   2467  3211260   \n",
        "\n",
        "                   Rate  \n",
        "Social_cat               \n",
        "1           1184.692883  \n",
        "2           3904.183725  "
       ]
      }
     ],
     "prompt_number": 21
    },
    {
     "cell_type": "code",
     "collapsed": false,
     "input": [
      "df = df[~(df.InOut == 2)] #throw away unclassified inouts"
     ],
     "language": "python",
     "metadata": {},
     "outputs": [],
     "prompt_number": 22
    },
    {
     "cell_type": "code",
     "collapsed": false,
     "input": [
      "df[['Rate', 'InOut']].boxplot(by='InOut') #0 = little indoor contact, 1 in indoor contact. Y-axis shows tb mort rate"
     ],
     "language": "python",
     "metadata": {},
     "outputs": [
      {
       "metadata": {},
       "output_type": "pyout",
       "prompt_number": 23,
       "text": [
        "<matplotlib.axes.AxesSubplot at 0x4468d90>"
       ]
      },
      {
       "metadata": {},
       "output_type": "display_data",
       "png": "[encoded data removed]",
       "text": [
        "<matplotlib.figure.Figure at 0x4470550>"
       ]
      }
     ],
     "prompt_number": 23
    },
    {
     "cell_type": "code",
     "collapsed": false,
     "input": [
      "df[['Rate', 'InOut']].groupby('InOut').mean()"
     ],
     "language": "python",
     "metadata": {},
     "outputs": [
      {
       "html": [
        "<div style=\"max-height:1000px;max-width:1500px;overflow:auto;\">\n",
        "<table border=\"1\" class=\"dataframe\">\n",
        "  <thead>\n",
        "    <tr style=\"text-align: right;\">\n",
        "      <th></th>\n",
        "      <th>Rate</th>\n",
        "    </tr>\n",
        "    <tr>\n",
        "      <th>InOut</th>\n",
        "      <th></th>\n",
        "    </tr>\n",
        "  </thead>\n",
        "  <tbody>\n",
        "    <tr>\n",
        "      <th>0</th>\n",
        "      <td> 1.477807</td>\n",
        "    </tr>\n",
        "    <tr>\n",
        "      <th>1</th>\n",
        "      <td> 2.479427</td>\n",
        "    </tr>\n",
        "  </tbody>\n",
        "</table>\n",
        "</div>"
       ],
       "metadata": {},
       "output_type": "pyout",
       "prompt_number": 24,
       "text": [
        "           Rate\n",
        "InOut          \n",
        "0      1.477807\n",
        "1      2.479427"
       ]
      }
     ],
     "prompt_number": 24
    },
    {
     "cell_type": "code",
     "collapsed": false,
     "input": [
      "df[['Rate', 'InOut']].groupby('InOut').var()"
     ],
     "language": "python",
     "metadata": {},
     "outputs": [
      {
       "html": [
        "<div style=\"max-height:1000px;max-width:1500px;overflow:auto;\">\n",
        "<table border=\"1\" class=\"dataframe\">\n",
        "  <thead>\n",
        "    <tr style=\"text-align: right;\">\n",
        "      <th></th>\n",
        "      <th>Rate</th>\n",
        "    </tr>\n",
        "    <tr>\n",
        "      <th>InOut</th>\n",
        "      <th></th>\n",
        "    </tr>\n",
        "  </thead>\n",
        "  <tbody>\n",
        "    <tr>\n",
        "      <th>0</th>\n",
        "      <td> 1.225217</td>\n",
        "    </tr>\n",
        "    <tr>\n",
        "      <th>1</th>\n",
        "      <td> 7.083657</td>\n",
        "    </tr>\n",
        "  </tbody>\n",
        "</table>\n",
        "</div>"
       ],
       "metadata": {},
       "output_type": "pyout",
       "prompt_number": 25,
       "text": [
        "           Rate\n",
        "InOut          \n",
        "0      1.225217\n",
        "1      7.083657"
       ]
      }
     ],
     "prompt_number": 25
    },
    {
     "cell_type": "code",
     "collapsed": false,
     "input": [
      "df[df.InOut == 0].groupby('Age_cat').Denominator.sum()"
     ],
     "language": "python",
     "metadata": {},
     "outputs": [
      {
       "metadata": {},
       "output_type": "pyout",
       "prompt_number": 26,
       "text": [
        "Age_cat\n",
        "1          2529213\n",
        "2          2512212\n",
        "3          4496379\n",
        "4          3820689\n",
        "5          2941875\n",
        "6          2168607\n",
        "7          1507996\n",
        "Name: Denominator, dtype: int64"
       ]
      }
     ],
     "prompt_number": 26
    },
    {
     "cell_type": "code",
     "collapsed": false,
     "input": [
      "df[df.InOut == 1].groupby('Age_cat').Denominator.sum()"
     ],
     "language": "python",
     "metadata": {},
     "outputs": [
      {
       "metadata": {},
       "output_type": "pyout",
       "prompt_number": 27,
       "text": [
        "Age_cat\n",
        "1          2496867\n",
        "2          2260338\n",
        "3          3912090\n",
        "4          2937057\n",
        "5          1941357\n",
        "6          1060857\n",
        "7           432823\n",
        "Name: Denominator, dtype: int64"
       ]
      }
     ],
     "prompt_number": 27
    },
    {
     "cell_type": "code",
     "collapsed": false,
     "input": [
      "df.head()"
     ],
     "language": "python",
     "metadata": {},
     "outputs": [
      {
       "html": [
        "<div style=\"max-height:1000px;max-width:1500px;overflow:auto;\">\n",
        "<table border=\"1\" class=\"dataframe\">\n",
        "  <thead>\n",
        "    <tr style=\"text-align: right;\">\n",
        "      <th></th>\n",
        "      <th>ID</th>\n",
        "      <th>Data_year</th>\n",
        "      <th>Occupation</th>\n",
        "      <th>Age</th>\n",
        "      <th>Mortality</th>\n",
        "      <th>Denominator</th>\n",
        "      <th>Social_class</th>\n",
        "      <th>InOut</th>\n",
        "      <th>Age_cat</th>\n",
        "      <th>Social_cat</th>\n",
        "      <th>Year</th>\n",
        "      <th>Rate</th>\n",
        "    </tr>\n",
        "  </thead>\n",
        "  <tbody>\n",
        "    <tr>\n",
        "      <th>0</th>\n",
        "      <td> 3170</td>\n",
        "      <td> 1890-1892</td>\n",
        "      <td> Artist, engraver, sculptor, architect</td>\n",
        "      <td>   &gt;65</td>\n",
        "      <td>  4</td>\n",
        "      <td>  2682</td>\n",
        "      <td> 1</td>\n",
        "      <td> 0</td>\n",
        "      <td> 7</td>\n",
        "      <td> 1</td>\n",
        "      <td> 1890</td>\n",
        "      <td> 1.491424</td>\n",
        "    </tr>\n",
        "    <tr>\n",
        "      <th>1</th>\n",
        "      <td>   36</td>\n",
        "      <td> 1890-1892</td>\n",
        "      <td> Artist, engraver, sculptor, architect</td>\n",
        "      <td> 15-19</td>\n",
        "      <td>  5</td>\n",
        "      <td>  3891</td>\n",
        "      <td> 1</td>\n",
        "      <td> 0</td>\n",
        "      <td> 1</td>\n",
        "      <td> 1</td>\n",
        "      <td> 1890</td>\n",
        "      <td> 1.285017</td>\n",
        "    </tr>\n",
        "    <tr>\n",
        "      <th>2</th>\n",
        "      <td>   37</td>\n",
        "      <td> 1890-1892</td>\n",
        "      <td> Artist, engraver, sculptor, architect</td>\n",
        "      <td> 20-24</td>\n",
        "      <td> 21</td>\n",
        "      <td>  7140</td>\n",
        "      <td> 1</td>\n",
        "      <td> 0</td>\n",
        "      <td> 2</td>\n",
        "      <td> 1</td>\n",
        "      <td> 1890</td>\n",
        "      <td> 2.941176</td>\n",
        "    </tr>\n",
        "    <tr>\n",
        "      <th>3</th>\n",
        "      <td>   38</td>\n",
        "      <td> 1890-1892</td>\n",
        "      <td> Artist, engraver, sculptor, architect</td>\n",
        "      <td> 25-34</td>\n",
        "      <td> 34</td>\n",
        "      <td> 14829</td>\n",
        "      <td> 1</td>\n",
        "      <td> 0</td>\n",
        "      <td> 3</td>\n",
        "      <td> 1</td>\n",
        "      <td> 1890</td>\n",
        "      <td> 2.292805</td>\n",
        "    </tr>\n",
        "    <tr>\n",
        "      <th>4</th>\n",
        "      <td>   39</td>\n",
        "      <td> 1890-1892</td>\n",
        "      <td> Artist, engraver, sculptor, architect</td>\n",
        "      <td> 35-44</td>\n",
        "      <td> 24</td>\n",
        "      <td> 10917</td>\n",
        "      <td> 1</td>\n",
        "      <td> 0</td>\n",
        "      <td> 4</td>\n",
        "      <td> 1</td>\n",
        "      <td> 1890</td>\n",
        "      <td> 2.198406</td>\n",
        "    </tr>\n",
        "  </tbody>\n",
        "</table>\n",
        "</div>"
       ],
       "metadata": {},
       "output_type": "pyout",
       "prompt_number": 173,
       "text": [
        "     ID  Data_year                             Occupation    Age  Mortality  \\\n",
        "0  3170  1890-1892  Artist, engraver, sculptor, architect    >65          4   \n",
        "1    36  1890-1892  Artist, engraver, sculptor, architect  15-19          5   \n",
        "2    37  1890-1892  Artist, engraver, sculptor, architect  20-24         21   \n",
        "3    38  1890-1892  Artist, engraver, sculptor, architect  25-34         34   \n",
        "4    39  1890-1892  Artist, engraver, sculptor, architect  35-44         24   \n",
        "\n",
        "   Denominator  Social_class  InOut Age_cat  Social_cat  Year      Rate  \n",
        "0         2682             1      0       7           1  1890  1.491424  \n",
        "1         3891             1      0       1           1  1890  1.285017  \n",
        "2         7140             1      0       2           1  1890  2.941176  \n",
        "3        14829             1      0       3           1  1890  2.292805  \n",
        "4        10917             1      0       4           1  1890  2.198406  "
       ]
      }
     ],
     "prompt_number": 173
    },
    {
     "cell_type": "code",
     "collapsed": false,
     "input": [
      "y, X = dmatrices('Rate~Age_cat+C(Social_cat)+C(InOut)', data=df, return_type='dataframe') \n",
      "exposure_array = df['Denominator'].values\n",
      "mod = sm.NegativeBinomial(y, X, exposure=exposure_array)\n",
      "res = mod.fit()\n",
      "print res.summary()"
     ],
     "language": "python",
     "metadata": {},
     "outputs": [
      {
       "output_type": "stream",
       "stream": "stdout",
       "text": [
        "Warning: Maximum number of iterations has been exceeded.\n",
        "         Current function value: 1.688392\n",
        "         Iterations: 35\n",
        "         Function evaluations: 45\n",
        "         Gradient evaluations: 45\n",
        "                     NegativeBinomial Regression Results                      \n",
        "==============================================================================\n",
        "Dep. Variable:                   Rate   No. Observations:                  813\n",
        "Model:               NegativeBinomial   Df Residuals:                      804\n",
        "Method:                           MLE   Df Model:                            8\n",
        "Date:                Wed, 18 Feb 2015   Pseudo R-squ.:                 0.08579\n",
        "Time:                        16:52:16   Log-Likelihood:                -1372.7\n",
        "converged:                      False   LL-Null:                       -1501.5\n",
        "                                        LLR p-value:                 4.161e-51\n",
        "======================================================================================\n",
        "                         coef    std err          z      P>|z|      [95.0% Conf. Int.]\n",
        "--------------------------------------------------------------------------------------\n",
        "Intercept             -1.0295      0.147     -7.018      0.000        -1.317    -0.742\n",
        "Age_cat[T.2]           0.7408      0.145      5.098      0.000         0.456     1.026\n",
        "Age_cat[T.3]           1.0592      0.140      7.584      0.000         0.785     1.333\n",
        "Age_cat[T.4]           1.3478      0.136      9.924      0.000         1.082     1.614\n",
        "Age_cat[T.5]           1.4187      0.135     10.501      0.000         1.154     1.684\n",
        "Age_cat[T.6]           1.3834      0.135     10.217      0.000         1.118     1.649\n",
        "Age_cat[T.7]           1.0995      0.139      7.907      0.000         0.827     1.372\n",
        "C(Social_cat)[T.2]     0.3925      0.085      4.644      0.000         0.227     0.558\n",
        "C(InOut)[T.1]          0.4946      0.063      7.801      0.000         0.370     0.619\n",
        "alpha                  0.1524      0.023      6.537      0.000         0.107     0.198\n",
        "======================================================================================"
       ]
      },
      {
       "output_type": "stream",
       "stream": "stdout",
       "text": [
        "\n"
       ]
      }
     ],
     "prompt_number": 174
    },
    {
     "cell_type": "code",
     "collapsed": false,
     "input": [
      "res.params"
     ],
     "language": "python",
     "metadata": {},
     "outputs": [
      {
       "metadata": {},
       "output_type": "pyout",
       "prompt_number": 175,
       "text": [
        "Intercept            -1.029509\n",
        "Age_cat[T.2]          0.740824\n",
        "Age_cat[T.3]          1.059229\n",
        "Age_cat[T.4]          1.347760\n",
        "Age_cat[T.5]          1.418745\n",
        "Age_cat[T.6]          1.383353\n",
        "Age_cat[T.7]          1.099453\n",
        "C(Social_cat)[T.2]    0.392484\n",
        "C(InOut)[T.1]         0.494621\n",
        "alpha                 0.152405\n",
        "dtype: float64"
       ]
      }
     ],
     "prompt_number": 175
    },
    {
     "cell_type": "code",
     "collapsed": false,
     "input": [
      "np.exp(res.params)"
     ],
     "language": "python",
     "metadata": {},
     "outputs": [
      {
       "metadata": {},
       "output_type": "pyout",
       "prompt_number": 176,
       "text": [
        "Intercept             0.357182\n",
        "Age_cat[T.2]          2.097663\n",
        "Age_cat[T.3]          2.884148\n",
        "Age_cat[T.4]          3.848795\n",
        "Age_cat[T.5]          4.131933\n",
        "Age_cat[T.6]          3.988251\n",
        "Age_cat[T.7]          3.002524\n",
        "C(Social_cat)[T.2]    1.480655\n",
        "C(InOut)[T.1]         1.639876\n",
        "alpha                 1.164632\n",
        "dtype: float64"
       ]
      }
     ],
     "prompt_number": 176
    },
    {
     "cell_type": "heading",
     "level": 2,
     "metadata": {},
     "source": [
      "Next up: I need to work out how to make negative binomial regression work like Tom does using his stata code this how-to http://www.ats.ucla.edu/stat/stata/dae/nbreg.htm and python"
     ]
    },
    {
     "cell_type": "code",
     "collapsed": false,
     "input": [
      "!wget \"http://www.ats.ucla.edu/stat/stata/dae/nb_data.dta\""
     ],
     "language": "python",
     "metadata": {},
     "outputs": [
      {
       "output_type": "stream",
       "stream": "stdout",
       "text": [
        "--2015-02-18 10:23:28--  http://www.ats.ucla.edu/stat/stata/dae/nb_data.dta\r\n",
        "Resolving www.ats.ucla.edu (www.ats.ucla.edu)... "
       ]
      },
      {
       "output_type": "stream",
       "stream": "stdout",
       "text": [
        "128.97.141.26\r\n",
        "Connecting to www.ats.ucla.edu (www.ats.ucla.edu)|128.97.141.26|:80... "
       ]
      },
      {
       "output_type": "stream",
       "stream": "stdout",
       "text": [
        "connected.\r\n",
        "HTTP request sent, awaiting response... "
       ]
      },
      {
       "output_type": "stream",
       "stream": "stdout",
       "text": [
        "200 OK\r\n",
        "Length: 7639 (7.5K) [text/plain]\r\n"
       ]
      },
      {
       "output_type": "stream",
       "stream": "stdout",
       "text": [
        "Saving to: `nb_data.dta'\r\n",
        "\r\n",
        "\r",
        " 0% [                                       ] 0           --.-K/s              \r",
        "100%[======================================>] 7,639       --.-K/s   in 0s      \r\n",
        "\r\n",
        "2015-02-18 10:23:28 (395 MB/s) - `nb_data.dta' saved [7639/7639]\r\n",
        "\r\n"
       ]
      }
     ],
     "prompt_number": 48
    },
    {
     "cell_type": "code",
     "collapsed": false,
     "input": [
      "df2 = pd.read_stata(\"nb_data.dta\")\n"
     ],
     "language": "python",
     "metadata": {},
     "outputs": [],
     "prompt_number": 50
    },
    {
     "cell_type": "code",
     "collapsed": false,
     "input": [
      "df2.describe()"
     ],
     "language": "python",
     "metadata": {},
     "outputs": [
      {
       "html": [
        "<div style=\"max-height:1000px;max-width:1500px;overflow:auto;\">\n",
        "<table border=\"1\" class=\"dataframe\">\n",
        "  <thead>\n",
        "    <tr style=\"text-align: right;\">\n",
        "      <th></th>\n",
        "      <th>id</th>\n",
        "      <th>math</th>\n",
        "      <th>daysabs</th>\n",
        "      <th>prog</th>\n",
        "    </tr>\n",
        "  </thead>\n",
        "  <tbody>\n",
        "    <tr>\n",
        "      <th>count</th>\n",
        "      <td>  314.000000</td>\n",
        "      <td> 314.000000</td>\n",
        "      <td> 314.000000</td>\n",
        "      <td> 314.000000</td>\n",
        "    </tr>\n",
        "    <tr>\n",
        "      <th>mean</th>\n",
        "      <td> 1575.910828</td>\n",
        "      <td>  48.267516</td>\n",
        "      <td>   5.955414</td>\n",
        "      <td>   2.213376</td>\n",
        "    </tr>\n",
        "    <tr>\n",
        "      <th>std</th>\n",
        "      <td>  502.314832</td>\n",
        "      <td>  25.362391</td>\n",
        "      <td>   7.036958</td>\n",
        "      <td>   0.651133</td>\n",
        "    </tr>\n",
        "    <tr>\n",
        "      <th>min</th>\n",
        "      <td> 1001.000000</td>\n",
        "      <td>   1.000000</td>\n",
        "      <td>   0.000000</td>\n",
        "      <td>   1.000000</td>\n",
        "    </tr>\n",
        "    <tr>\n",
        "      <th>25%</th>\n",
        "      <td> 1079.250000</td>\n",
        "      <td>  28.000000</td>\n",
        "      <td>   1.000000</td>\n",
        "      <td>   2.000000</td>\n",
        "    </tr>\n",
        "    <tr>\n",
        "      <th>50%</th>\n",
        "      <td> 1158.500000</td>\n",
        "      <td>  48.000000</td>\n",
        "      <td>   4.000000</td>\n",
        "      <td>   2.000000</td>\n",
        "    </tr>\n",
        "    <tr>\n",
        "      <th>75%</th>\n",
        "      <td> 2077.750000</td>\n",
        "      <td>  70.000000</td>\n",
        "      <td>   8.000000</td>\n",
        "      <td>   3.000000</td>\n",
        "    </tr>\n",
        "    <tr>\n",
        "      <th>max</th>\n",
        "      <td> 2157.000000</td>\n",
        "      <td>  99.000000</td>\n",
        "      <td>  35.000000</td>\n",
        "      <td>   3.000000</td>\n",
        "    </tr>\n",
        "  </tbody>\n",
        "</table>\n",
        "</div>"
       ],
       "metadata": {},
       "output_type": "pyout",
       "prompt_number": 52,
       "text": [
        "                id        math     daysabs        prog\n",
        "count   314.000000  314.000000  314.000000  314.000000\n",
        "mean   1575.910828   48.267516    5.955414    2.213376\n",
        "std     502.314832   25.362391    7.036958    0.651133\n",
        "min    1001.000000    1.000000    0.000000    1.000000\n",
        "25%    1079.250000   28.000000    1.000000    2.000000\n",
        "50%    1158.500000   48.000000    4.000000    2.000000\n",
        "75%    2077.750000   70.000000    8.000000    3.000000\n",
        "max    2157.000000   99.000000   35.000000    3.000000"
       ]
      }
     ],
     "prompt_number": 52
    },
    {
     "cell_type": "code",
     "collapsed": false,
     "input": [
      "#messing around to make look more like stata output...\n",
      "#plt.figure(figsize=(4, 4))\n",
      "#plt.xlim((-1,40))\n",
      "#x = df2['daysabs'].values\n",
      "#plt.hist(x, align='left', bins=40, histtype='bar', normed=True)\n",
      "\n",
      "df2.daysabs.hist(bins=35)"
     ],
     "language": "python",
     "metadata": {},
     "outputs": [
      {
       "metadata": {},
       "output_type": "pyout",
       "prompt_number": 112,
       "text": [
        "<matplotlib.axes.AxesSubplot at 0x942ead0>"
       ]
      },
      {
       "metadata": {},
       "output_type": "display_data",
       "png": "[encoded data removed]",
       "text": [
        "<matplotlib.figure.Figure at 0x9449150>"
       ]
      }
     ],
     "prompt_number": 112
    },
    {
     "cell_type": "code",
     "collapsed": false,
     "input": [
      "df2[['daysabs', 'prog']].groupby('prog').agg([np.mean, np.var, np.count_nonzero])"
     ],
     "language": "python",
     "metadata": {},
     "outputs": [
      {
       "html": [
        "<div style=\"max-height:1000px;max-width:1500px;overflow:auto;\">\n",
        "<table border=\"1\" class=\"dataframe\">\n",
        "  <thead>\n",
        "    <tr>\n",
        "      <th></th>\n",
        "      <th colspan=\"3\" halign=\"left\">daysabs</th>\n",
        "    </tr>\n",
        "    <tr>\n",
        "      <th></th>\n",
        "      <th>mean</th>\n",
        "      <th>var</th>\n",
        "      <th>count_nonzero</th>\n",
        "    </tr>\n",
        "    <tr>\n",
        "      <th>prog</th>\n",
        "      <th></th>\n",
        "      <th></th>\n",
        "      <th></th>\n",
        "    </tr>\n",
        "  </thead>\n",
        "  <tbody>\n",
        "    <tr>\n",
        "      <th>1</th>\n",
        "      <td> 10.650000</td>\n",
        "      <td> 67.258972</td>\n",
        "      <td>  40</td>\n",
        "    </tr>\n",
        "    <tr>\n",
        "      <th>2</th>\n",
        "      <td>  6.934132</td>\n",
        "      <td> 55.447441</td>\n",
        "      <td> 145</td>\n",
        "    </tr>\n",
        "    <tr>\n",
        "      <th>3</th>\n",
        "      <td>  2.672897</td>\n",
        "      <td> 13.939164</td>\n",
        "      <td>  72</td>\n",
        "    </tr>\n",
        "  </tbody>\n",
        "</table>\n",
        "</div>"
       ],
       "metadata": {},
       "output_type": "pyout",
       "prompt_number": 140,
       "text": [
        "        daysabs                          \n",
        "           mean        var  count_nonzero\n",
        "prog                                     \n",
        "1     10.650000  67.258972             40\n",
        "2      6.934132  55.447441            145\n",
        "3      2.672897  13.939164             72"
       ]
      }
     ],
     "prompt_number": 140
    },
    {
     "cell_type": "code",
     "collapsed": false,
     "input": [
      "y, X = dmatrices('daysabs~math+C(prog)', data=df2, return_type='dataframe') \n",
      "mod = sm.NegativeBinomial(y, X)\n",
      "res = mod.fit()\n",
      "print res.summary()"
     ],
     "language": "python",
     "metadata": {},
     "outputs": [
      {
       "output_type": "stream",
       "stream": "stdout",
       "text": [
        "Optimization terminated successfully.\n",
        "         Current function value: 2.756780\n",
        "         Iterations: 16\n",
        "         Function evaluations: 20\n",
        "         Gradient evaluations: 20\n",
        "                     NegativeBinomial Regression Results                      \n",
        "==============================================================================\n",
        "Dep. Variable:                daysabs   No. Observations:                  314\n",
        "Model:               NegativeBinomial   Df Residuals:                      310\n",
        "Method:                           MLE   Df Model:                            3\n",
        "Date:                Wed, 18 Feb 2015   Pseudo R-squ.:                 0.03441\n",
        "Time:                        16:42:48   Log-Likelihood:                -865.63\n",
        "converged:                       True   LL-Null:                       -896.47\n",
        "                                        LLR p-value:                 2.563e-13\n",
        "==================================================================================\n",
        "                     coef    std err          z      P>|z|      [95.0% Conf. Int.]\n",
        "----------------------------------------------------------------------------------\n",
        "Intercept          2.6153      0.196     13.319      0.000         2.230     3.000\n",
        "C(prog)[T.2.0]    -0.4408      0.183     -2.414      0.016        -0.799    -0.083\n",
        "C(prog)[T.3.0]    -1.2786      0.202     -6.330      0.000        -1.675    -0.883\n",
        "math              -0.0060      0.003     -2.390      0.017        -0.011    -0.001\n",
        "alpha              0.9683      0.100      9.729      0.000         0.773     1.163\n",
        "==================================================================================\n"
       ]
      }
     ],
     "prompt_number": 167
    },
    {
     "cell_type": "code",
     "collapsed": false,
     "input": [
      "np.exp(res.params)"
     ],
     "language": "python",
     "metadata": {},
     "outputs": [
      {
       "metadata": {},
       "output_type": "pyout",
       "prompt_number": 168,
       "text": [
        "Intercept         13.670937\n",
        "C(prog)[T.2.0]     0.643549\n",
        "C(prog)[T.3.0]     0.278419\n",
        "math               0.994025\n",
        "alpha              2.633525\n",
        "dtype: float64"
       ]
      }
     ],
     "prompt_number": 168
    },
    {
     "cell_type": "code",
     "collapsed": false,
     "input": [],
     "language": "python",
     "metadata": {},
     "outputs": []
    }
   ],
   "metadata": {}
  }
 ]
}