{
 "metadata": {
  "name": "",
  "signature": "sha256:00a6f5444856d2e85520cadf6fe26d71a8de582490b32f04bdd4e50fcf33d48d"
 },
 "nbformat": 3,
 "nbformat_minor": 0,
 "worksheets": [
  {
   "cells": [
    {
     "cell_type": "heading",
     "level": 1,
     "metadata": {},
     "source": [
      "Herein we re-implement stata codes from Tom Yates before re-re-implementing in javascripts"
     ]
    },
    {
     "cell_type": "code",
     "collapsed": true,
     "input": [
      "import pandas\n",
      "import pandas as pd\n",
      "from pandas import DataFrame\n",
      "import statsmodels.api as sm\n",
      "from patsy import dmatrices, dmatrix"
     ],
     "language": "python",
     "metadata": {},
     "outputs": [],
     "prompt_number": 1
    },
    {
     "cell_type": "code",
     "collapsed": false,
     "input": [
      "df = pd.read_excel('Final_data.xlsx')"
     ],
     "language": "python",
     "metadata": {},
     "outputs": [],
     "prompt_number": 2
    },
    {
     "cell_type": "code",
     "collapsed": false,
     "input": [
      "df.rename(columns={'Indoor/Outdoor':'InOut'}, inplace=True)"
     ],
     "language": "python",
     "metadata": {},
     "outputs": [],
     "prompt_number": 3
    },
    {
     "cell_type": "code",
     "collapsed": false,
     "input": [
      "#define the transforms\n",
      "io = {1:0, 0:1, 2:2} #Fix InOut coding bug. 0 = little contact, 1 = indoor contact\n",
      "\n",
      "agecat = {'15-19':'1',  #agecat tranforms\n",
      "           '20-24':'2', \n",
      "           '25-34':'3', \n",
      "           '35-44':'4',\n",
      "           '45-54':'5', \n",
      "           '55-64':'6', \n",
      "           '>65':'7', \n",
      "           '65-74':'7', \n",
      "           '>75':'7'}\n",
      "\n",
      "socialcat = {1:1, 2:1, 3:2, 4:2, #socialcat transforms\n",
      "             5:2, 6:2, 7:2, 8:2} \n",
      "\n"
     ],
     "language": "python",
     "metadata": {},
     "outputs": [],
     "prompt_number": 4
    },
    {
     "cell_type": "code",
     "collapsed": false,
     "input": [
      "#apply the transforms\n",
      "df['InOut'] = df['InOut'].map(io.get)\n",
      "df['Age_cat'] = df['Age'].map(agecat.get)\n",
      "df['Social_cat'] = df['Social_class'].map(socialcat.get)\n",
      "\n",
      "#make Data_year column values be integers\n",
      "df.Data_year = df.Data_year.astype(str).str[:4]\n",
      "df.Data_year = df.Data_year.astype(int)\n",
      "\n",
      "#make two occupations that we think are the same be the same\n",
      "df.Occupation = df.Occupation.str.replace('Tallow, soap, &c., manufacture', 'Tallow, soap manufacture')\n",
      "df.Occupation = df.Occupation.str.replace('Tallow, soap, glue, manure, &c., manufacture', 'Tallow, soap manufacture')\n",
      "\n"
     ],
     "language": "python",
     "metadata": {},
     "outputs": [],
     "prompt_number": 5
    },
    {
     "cell_type": "code",
     "collapsed": false,
     "input": [
      "#list extraneous occupations \n",
      "extocc = ['Coal miner (Durham and Northumberland)', 'Coal miner (Lancashire)', 'Coal miner (West Riding)'\n",
      "          'Coal miner (Derbyshire and Nottinghamshire)', \n",
      "           \"Coal miner (Staffordshire)\", \"Coal miner (Monmouthshire and South Wales)\", \"Wool, worsted, manufacture (West Riding)\", \n",
      "           \"Innkeeper, &c. (London)\", \n",
      "           \"Innkeeper, &c. (industrial districts)\", \"Innkeeper, &c. (rural districts)\", \n",
      "           \"Inn, hotel, servant (London)\", \"Inn, hotel, servant (industrial districts)\",\n",
      "           \"Inn, hotel, servant (rural districts)\", \"Engine, machine-maker, fitter; millwright\",\n",
      "           \"Boiler maker\", \"Copper worker\", \"Tin, tin-plate, worker\",\n",
      "           \"Zinc worker\", \"Lead worker\", \"Brass, bronze-worker\", \n",
      "           \"Cotton, flax, linen, manufacture (Lancashire)\",\n",
      "           \"Hosiery manufacture (Leicestershire and Nottinghamshire)\", \"General labourer (London)\",\n",
      "           \"General labourer (industrial districts)\", \n",
      "           \"Stone getters, dressers; masons (counties producing granites)\",\n",
      "           \"Stone getters, dressers; masons (counties producing limestones)\",\n",
      "           \"Stone getters, dressers; masons (counties producing sandstones)\",\n",
      "           \"Copper manuf. (Camarthenshire & Glamorganshire)\", \"Coppersmiths, copper worker (counties without Copper Smelting)\",\n",
      "           \"Tailors (in certain Boroughs with factories)\", \n",
      "           \"Tailors (Bethnal Green & Stepney)\", \"Watch, clock, maker\", \"Tallow, soap, &c., manufacture\",\n",
      "           \"Cutler, scissors maker\", \"File maker\",\n",
      "           \"Patten, clog - makers (Lancashire)\", \n",
      "           \"Boot, shoe, slipper - makers (Northamptonshire and Leicestershire)\", \n",
      "           \"Felt hat manufacture (Cheshire)\", \n",
      "           \"Printers - hand compositors\", \"Printers - machine compositors; stereotypers, electrotypers\",\n",
      "           \"Stationery, &c. - manufacture\", \"Leather goods, portmanteau - makers\", \n",
      "           \"Jewellers (Staffordshire, Worcestershire, Warwickshire)\", \"Shipbuilding - workers in iron\",\n",
      "           \"Shipbuilding - workers in wood\", \"Ironfounders\", \"Stove, grate, bedstead - makers\",\n",
      "           \"Patternmaker\", \"Millwrights, fitters, turners\", \n",
      "           \"Iron - miners, quarriers (Cumberland & Lancashire)\",\n",
      "           \"Domestic coachman, groom\"]"
     ],
     "language": "python",
     "metadata": {},
     "outputs": [],
     "prompt_number": 6
    },
    {
     "cell_type": "code",
     "collapsed": false,
     "input": [
      "df = df[~df.Occupation.isin(extocc)] #drop extraneous occupations"
     ],
     "language": "python",
     "metadata": {},
     "outputs": [],
     "prompt_number": 7
    },
    {
     "cell_type": "code",
     "collapsed": false,
     "input": [
      "#drop more extraneous occupations\n",
      "df = df[~((df.Occupation.str.contains('Brass')) & (df.Data_year == 1900))]\n",
      "df = df[~((df.Occupation.str.contains('Lithographer')) & (df.Data_year == 1900))]\n"
     ],
     "language": "python",
     "metadata": {},
     "outputs": [],
     "prompt_number": 8
    },
    {
     "cell_type": "code",
     "collapsed": false,
     "input": [
      "df['Rate'] = (df['Mortality'] / df['Denominator']) * 1000\n",
      "\n",
      "\n",
      "#throw away the result of dividing 0 by 0 for age groups of occupations with no people in them\n",
      "df = df[df['Rate'] != inf]"
     ],
     "language": "python",
     "metadata": {},
     "outputs": [],
     "prompt_number": 9
    },
    {
     "cell_type": "code",
     "collapsed": false,
     "input": [
      "df[['Rate', 'InOut']].boxplot(by='InOut')"
     ],
     "language": "python",
     "metadata": {},
     "outputs": [
      {
       "metadata": {},
       "output_type": "pyout",
       "prompt_number": 10,
       "text": [
        "<matplotlib.axes.AxesSubplot at 0x5b39d90>"
       ]
      },
      {
       "metadata": {},
       "output_type": "display_data",
       "png": "[encoded data removed]",
       "text": [
        "<matplotlib.figure.Figure at 0x5b39050>"
       ]
      }
     ],
     "prompt_number": 10
    },
    {
     "cell_type": "code",
     "collapsed": false,
     "input": [
      "df[['Rate', 'InOut']].groupby('InOut').describe()"
     ],
     "language": "python",
     "metadata": {},
     "outputs": [
      {
       "html": [
        "<div style=\"max-height:1000px;max-width:1500px;overflow:auto;\">\n",
        "<table border=\"1\" class=\"dataframe\">\n",
        "  <thead>\n",
        "    <tr style=\"text-align: right;\">\n",
        "      <th></th>\n",
        "      <th></th>\n",
        "      <th>Rate</th>\n",
        "    </tr>\n",
        "    <tr>\n",
        "      <th>InOut</th>\n",
        "      <th></th>\n",
        "      <th></th>\n",
        "    </tr>\n",
        "  </thead>\n",
        "  <tbody>\n",
        "    <tr>\n",
        "      <th rowspan=\"8\" valign=\"top\">0</th>\n",
        "      <th>count</th>\n",
        "      <td>  310.000000</td>\n",
        "    </tr>\n",
        "    <tr>\n",
        "      <th>mean</th>\n",
        "      <td>    1.424223</td>\n",
        "    </tr>\n",
        "    <tr>\n",
        "      <th>std</th>\n",
        "      <td>    1.103485</td>\n",
        "    </tr>\n",
        "    <tr>\n",
        "      <th>min</th>\n",
        "      <td>    0.000000</td>\n",
        "    </tr>\n",
        "    <tr>\n",
        "      <th>25%</th>\n",
        "      <td>    0.781118</td>\n",
        "    </tr>\n",
        "    <tr>\n",
        "      <th>50%</th>\n",
        "      <td>    1.147804</td>\n",
        "    </tr>\n",
        "    <tr>\n",
        "      <th>75%</th>\n",
        "      <td>    1.748759</td>\n",
        "    </tr>\n",
        "    <tr>\n",
        "      <th>max</th>\n",
        "      <td>    9.523810</td>\n",
        "    </tr>\n",
        "    <tr>\n",
        "      <th rowspan=\"8\" valign=\"top\">1</th>\n",
        "      <th>count</th>\n",
        "      <td>  613.000000</td>\n",
        "    </tr>\n",
        "    <tr>\n",
        "      <th>mean</th>\n",
        "      <td>    2.273963</td>\n",
        "    </tr>\n",
        "    <tr>\n",
        "      <th>std</th>\n",
        "      <td>    2.545109</td>\n",
        "    </tr>\n",
        "    <tr>\n",
        "      <th>min</th>\n",
        "      <td>    0.000000</td>\n",
        "    </tr>\n",
        "    <tr>\n",
        "      <th>25%</th>\n",
        "      <td>    0.906310</td>\n",
        "    </tr>\n",
        "    <tr>\n",
        "      <th>50%</th>\n",
        "      <td>    1.652972</td>\n",
        "    </tr>\n",
        "    <tr>\n",
        "      <th>75%</th>\n",
        "      <td>    2.819379</td>\n",
        "    </tr>\n",
        "    <tr>\n",
        "      <th>max</th>\n",
        "      <td>   21.628499</td>\n",
        "    </tr>\n",
        "    <tr>\n",
        "      <th rowspan=\"8\" valign=\"top\">2</th>\n",
        "      <th>count</th>\n",
        "      <td> 1627.000000</td>\n",
        "    </tr>\n",
        "    <tr>\n",
        "      <th>mean</th>\n",
        "      <td>    2.115423</td>\n",
        "    </tr>\n",
        "    <tr>\n",
        "      <th>std</th>\n",
        "      <td>    1.518684</td>\n",
        "    </tr>\n",
        "    <tr>\n",
        "      <th>min</th>\n",
        "      <td>    0.000000</td>\n",
        "    </tr>\n",
        "    <tr>\n",
        "      <th>25%</th>\n",
        "      <td>    1.033192</td>\n",
        "    </tr>\n",
        "    <tr>\n",
        "      <th>50%</th>\n",
        "      <td>    1.850353</td>\n",
        "    </tr>\n",
        "    <tr>\n",
        "      <th>75%</th>\n",
        "      <td>    2.862489</td>\n",
        "    </tr>\n",
        "    <tr>\n",
        "      <th>max</th>\n",
        "      <td>   15.151515</td>\n",
        "    </tr>\n",
        "  </tbody>\n",
        "</table>\n",
        "</div>"
       ],
       "metadata": {},
       "output_type": "pyout",
       "prompt_number": 11,
       "text": [
        "                    Rate\n",
        "InOut                   \n",
        "0     count   310.000000\n",
        "      mean      1.424223\n",
        "      std       1.103485\n",
        "      min       0.000000\n",
        "      25%       0.781118\n",
        "      50%       1.147804\n",
        "      75%       1.748759\n",
        "      max       9.523810\n",
        "1     count   613.000000\n",
        "      mean      2.273963\n",
        "      std       2.545109\n",
        "      min       0.000000\n",
        "      25%       0.906310\n",
        "      50%       1.652972\n",
        "      75%       2.819379\n",
        "      max      21.628499\n",
        "2     count  1627.000000\n",
        "      mean      2.115423\n",
        "      std       1.518684\n",
        "      min       0.000000\n",
        "      25%       1.033192\n",
        "      50%       1.850353\n",
        "      75%       2.862489\n",
        "      max      15.151515"
       ]
      }
     ],
     "prompt_number": 11
    },
    {
     "cell_type": "code",
     "collapsed": false,
     "input": [
      "df[df.InOut == 0].groupby('Age_cat').Denominator.sum()"
     ],
     "language": "python",
     "metadata": {},
     "outputs": [
      {
       "metadata": {},
       "output_type": "pyout",
       "prompt_number": 12,
       "text": [
        "Age_cat\n",
        "1          2875830\n",
        "2          2512212\n",
        "3          4496379\n",
        "4          3820689\n",
        "5          3071904\n",
        "6          2168607\n",
        "7          1650790\n",
        "Name: Denominator, dtype: int64"
       ]
      }
     ],
     "prompt_number": 12
    },
    {
     "cell_type": "code",
     "collapsed": false,
     "input": [
      "df[df.InOut == 1].groupby('Age_cat').Denominator.sum()"
     ],
     "language": "python",
     "metadata": {},
     "outputs": [
      {
       "metadata": {},
       "output_type": "pyout",
       "prompt_number": 13,
       "text": [
        "Age_cat\n",
        "1          2713512\n",
        "2          2451768\n",
        "3          4233180\n",
        "4          3167943\n",
        "5          2085312\n",
        "6          1130292\n",
        "7           515341\n",
        "Name: Denominator, dtype: int64"
       ]
      }
     ],
     "prompt_number": 13
    },
    {
     "cell_type": "code",
     "collapsed": false,
     "input": [
      "df1 = df[~(df.InOut == 2)] #drop uncatergo"
     ],
     "language": "python",
     "metadata": {},
     "outputs": [],
     "prompt_number": 14
    },
    {
     "cell_type": "code",
     "collapsed": false,
     "input": [
      "def model(df):\n",
      "    \n",
      "    exposure_array = df['Denominator'].values\n",
      "    \n",
      "    df = df[['Mortality', 'Age_cat', 'Social_cat', 'InOut']] #get rid of extraneous stuff\n",
      "        \n",
      "    y, X = dmatrices('Mortality ~ C(Age_cat) + C(Social_cat) + C(InOut)', data=df, return_type='dataframe') \n",
      "\n",
      "    mod = sm.Poisson(y, X, exposure=exposure_array) #http://statsmodels.sourceforge.net/devel/endog_exog.html\n",
      "    \n",
      "    res = mod.fit(maxiter=100)\n",
      "    \n",
      "    print res.summary\n",
      "\n",
      "    return res\n",
      "\n",
      "print np.exp(model(df1).params)"
     ],
     "language": "python",
     "metadata": {},
     "outputs": [
      {
       "output_type": "stream",
       "stream": "stdout",
       "text": [
        "Optimization terminated successfully.\n",
        "         Current function value: 9.953298\n",
        "         Iterations 13\n",
        "<bound method CountResults.summary of <statsmodels.discrete.discrete_model.CountResults object at 0x5c36050>>\n",
        "Intercept             0.000351\n",
        "C(Age_cat)[T.2]       2.357939\n",
        "C(Age_cat)[T.3]       2.872582\n",
        "C(Age_cat)[T.4]       3.754916\n",
        "C(Age_cat)[T.5]       4.143498\n",
        "C(Age_cat)[T.6]       3.552476\n",
        "C(Age_cat)[T.7]       2.170028\n",
        "C(Social_cat)[T.2]    1.468259\n",
        "C(InOut)[T.1]         1.096844\n",
        "dtype: float64\n"
       ]
      }
     ],
     "prompt_number": 15
    },
    {
     "cell_type": "code",
     "collapsed": false,
     "input": [
      "print model(df1).summary"
     ],
     "language": "python",
     "metadata": {},
     "outputs": [
      {
       "output_type": "stream",
       "stream": "stdout",
       "text": [
        "Optimization terminated successfully.\n",
        "         Current function value: 9.953298\n",
        "         Iterations 13\n",
        "<bound method CountResults.summary of <statsmodels.discrete.discrete_model.CountResults object at 0x43a2c10>>\n",
        "<bound method CountResults.summary of <statsmodels.discrete.discrete_model.CountResults object at 0x43a2c10>>\n"
       ]
      }
     ],
     "prompt_number": 19
    },
    {
     "cell_type": "raw",
     "metadata": {},
     "source": [
      "print model(df1)"
     ]
    },
    {
     "cell_type": "code",
     "collapsed": false,
     "input": [
      "exposure_array = df1['Denominator'].values\n",
      "    \n",
      "df1 = df1[['Mortality', 'Age_cat', 'Social_cat', 'InOut']] #get rid of extraneous stuff\n",
      "        \n",
      "y, X = dmatrices('Mortality ~ C(Age_cat) + C(Social_cat) + C(InOut)', data=df1, return_type='dataframe') \n",
      "\n",
      "mod = sm.Poisson(y, X, exposure=exposure_array) #http://statsmodels.sourceforge.net/devel/endog_exog.html"
     ],
     "language": "python",
     "metadata": {},
     "outputs": [],
     "prompt_number": 21
    },
    {
     "cell_type": "code",
     "collapsed": false,
     "input": [
      "res = mod.fit()"
     ],
     "language": "python",
     "metadata": {},
     "outputs": [
      {
       "output_type": "stream",
       "stream": "stdout",
       "text": [
        "Optimization terminated successfully.\n",
        "         Current function value: 9.953298\n",
        "         Iterations 13\n"
       ]
      }
     ],
     "prompt_number": 22
    },
    {
     "cell_type": "code",
     "collapsed": false,
     "input": [
      "res.summary()"
     ],
     "language": "python",
     "metadata": {},
     "outputs": [
      {
       "html": [
        "<table class=\"simpletable\">\n",
        "<caption>Poisson Regression Results</caption>\n",
        "<tr>\n",
        "  <th>Dep. Variable:</th>     <td>Mortality</td>    <th>  No. Observations:  </th>   <td>   923</td>   \n",
        "</tr>\n",
        "<tr>\n",
        "  <th>Model:</th>              <td>Poisson</td>     <th>  Df Residuals:      </th>   <td>   914</td>   \n",
        "</tr>\n",
        "<tr>\n",
        "  <th>Method:</th>               <td>MLE</td>       <th>  Df Model:          </th>   <td>     8</td>   \n",
        "</tr>\n",
        "<tr>\n",
        "  <th>Date:</th>          <td>Sun, 25 Jan 2015</td> <th>  Pseudo R-squ.:     </th>   <td> 1.000</td>   \n",
        "</tr>\n",
        "<tr>\n",
        "  <th>Time:</th>              <td>21:46:00</td>     <th>  Log-Likelihood:    </th>  <td> -9186.9</td>  \n",
        "</tr>\n",
        "<tr>\n",
        "  <th>converged:</th>           <td>True</td>       <th>  LL-Null:           </th> <td>-2.9973e+13</td>\n",
        "</tr>\n",
        "<tr>\n",
        "  <th> </th>                      <td> </td>        <th>  LLR p-value:       </th>   <td> 0.000</td>   \n",
        "</tr>\n",
        "</table>\n",
        "<table class=\"simpletable\">\n",
        "<tr>\n",
        "           <td></td>             <th>coef</th>     <th>std err</th>      <th>z</th>      <th>P>|z|</th> <th>[95.0% Conf. Int.]</th> \n",
        "</tr>\n",
        "<tr>\n",
        "  <th>Intercept</th>          <td>   -7.9554</td> <td>    0.023</td> <td> -342.083</td> <td> 0.000</td> <td>   -8.001    -7.910</td>\n",
        "</tr>\n",
        "<tr>\n",
        "  <th>C(Age_cat)[T.2]</th>    <td>    0.8578</td> <td>    0.022</td> <td>   38.276</td> <td> 0.000</td> <td>    0.814     0.902</td>\n",
        "</tr>\n",
        "<tr>\n",
        "  <th>C(Age_cat)[T.3]</th>    <td>    1.0552</td> <td>    0.020</td> <td>   51.716</td> <td> 0.000</td> <td>    1.015     1.095</td>\n",
        "</tr>\n",
        "<tr>\n",
        "  <th>C(Age_cat)[T.4]</th>    <td>    1.3231</td> <td>    0.020</td> <td>   65.029</td> <td> 0.000</td> <td>    1.283     1.363</td>\n",
        "</tr>\n",
        "<tr>\n",
        "  <th>C(Age_cat)[T.5]</th>    <td>    1.4215</td> <td>    0.021</td> <td>   68.337</td> <td> 0.000</td> <td>    1.381     1.462</td>\n",
        "</tr>\n",
        "<tr>\n",
        "  <th>C(Age_cat)[T.6]</th>    <td>    1.2676</td> <td>    0.023</td> <td>   55.961</td> <td> 0.000</td> <td>    1.223     1.312</td>\n",
        "</tr>\n",
        "<tr>\n",
        "  <th>C(Age_cat)[T.7]</th>    <td>    0.7747</td> <td>    0.028</td> <td>   27.662</td> <td> 0.000</td> <td>    0.720     0.830</td>\n",
        "</tr>\n",
        "<tr>\n",
        "  <th>C(Social_cat)[T.2]</th> <td>    0.3841</td> <td>    0.015</td> <td>   26.214</td> <td> 0.000</td> <td>    0.355     0.413</td>\n",
        "</tr>\n",
        "<tr>\n",
        "  <th>C(InOut)[T.1]</th>      <td>    0.0924</td> <td>    0.009</td> <td>   10.636</td> <td> 0.000</td> <td>    0.075     0.109</td>\n",
        "</tr>\n",
        "</table>"
       ],
       "metadata": {},
       "output_type": "pyout",
       "prompt_number": 23,
       "text": [
        "<class 'statsmodels.iolib.summary.Summary'>\n",
        "\"\"\"\n",
        "                          Poisson Regression Results                          \n",
        "==============================================================================\n",
        "Dep. Variable:              Mortality   No. Observations:                  923\n",
        "Model:                        Poisson   Df Residuals:                      914\n",
        "Method:                           MLE   Df Model:                            8\n",
        "Date:                Sun, 25 Jan 2015   Pseudo R-squ.:                   1.000\n",
        "Time:                        21:46:00   Log-Likelihood:                -9186.9\n",
        "converged:                       True   LL-Null:                   -2.9973e+13\n",
        "                                        LLR p-value:                     0.000\n",
        "======================================================================================\n",
        "                         coef    std err          z      P>|z|      [95.0% Conf. Int.]\n",
        "--------------------------------------------------------------------------------------\n",
        "Intercept             -7.9554      0.023   -342.083      0.000        -8.001    -7.910\n",
        "C(Age_cat)[T.2]        0.8578      0.022     38.276      0.000         0.814     0.902\n",
        "C(Age_cat)[T.3]        1.0552      0.020     51.716      0.000         1.015     1.095\n",
        "C(Age_cat)[T.4]        1.3231      0.020     65.029      0.000         1.283     1.363\n",
        "C(Age_cat)[T.5]        1.4215      0.021     68.337      0.000         1.381     1.462\n",
        "C(Age_cat)[T.6]        1.2676      0.023     55.961      0.000         1.223     1.312\n",
        "C(Age_cat)[T.7]        0.7747      0.028     27.662      0.000         0.720     0.830\n",
        "C(Social_cat)[T.2]     0.3841      0.015     26.214      0.000         0.355     0.413\n",
        "C(InOut)[T.1]          0.0924      0.009     10.636      0.000         0.075     0.109\n",
        "======================================================================================\n",
        "\"\"\""
       ]
      }
     ],
     "prompt_number": 23
    },
    {
     "cell_type": "code",
     "collapsed": false,
     "input": [],
     "language": "python",
     "metadata": {},
     "outputs": []
    }
   ],
   "metadata": {}
  }
 ]
}