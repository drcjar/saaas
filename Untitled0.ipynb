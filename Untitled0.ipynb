{
 "metadata": {
  "name": "",
  "signature": "sha256:b123b0ff61c77078ed3f00e3a35d338c6dbbed7f1cea0f6d79448e2664b07856"
 },
 "nbformat": 3,
 "nbformat_minor": 0,
 "worksheets": [
  {
   "cells": [
    {
     "cell_type": "code",
     "collapsed": false,
     "input": [
      "import pandas\n",
      "import pandas as pd\n",
      "from pandas import DataFrame\n",
      "import statsmodels.api as sm\n",
      "from patsy import dmatrices, dmatrix"
     ],
     "language": "python",
     "metadata": {},
     "outputs": [],
     "prompt_number": 2
    },
    {
     "cell_type": "code",
     "collapsed": false,
     "input": [
      "df = sm.datasets.get_rdataset(\"Guerry\", \"HistData\").data"
     ],
     "language": "python",
     "metadata": {},
     "outputs": [],
     "prompt_number": 3
    },
    {
     "cell_type": "code",
     "collapsed": false,
     "input": [
      "vars = ['Department', 'Lottery', 'Literacy', 'Wealth', 'Region']\n",
      "df = df[vars]"
     ],
     "language": "python",
     "metadata": {},
     "outputs": [],
     "prompt_number": 4
    },
    {
     "cell_type": "code",
     "collapsed": false,
     "input": [
      "df[-5:]\n",
      "df = df.dropna()"
     ],
     "language": "python",
     "metadata": {},
     "outputs": [],
     "prompt_number": 5
    },
    {
     "cell_type": "code",
     "collapsed": false,
     "input": [
      "df[-5:]"
     ],
     "language": "python",
     "metadata": {},
     "outputs": [
      {
       "html": [
        "<div style=\"max-height:1000px;max-width:1500px;overflow:auto;\">\n",
        "<table border=\"1\" class=\"dataframe\">\n",
        "  <thead>\n",
        "    <tr style=\"text-align: right;\">\n",
        "      <th></th>\n",
        "      <th>Department</th>\n",
        "      <th>Lottery</th>\n",
        "      <th>Literacy</th>\n",
        "      <th>Wealth</th>\n",
        "      <th>Region</th>\n",
        "    </tr>\n",
        "  </thead>\n",
        "  <tbody>\n",
        "    <tr>\n",
        "      <th>80</th>\n",
        "      <td>       Vendee</td>\n",
        "      <td> 68</td>\n",
        "      <td> 28</td>\n",
        "      <td> 56</td>\n",
        "      <td> W</td>\n",
        "    </tr>\n",
        "    <tr>\n",
        "      <th>81</th>\n",
        "      <td>       Vienne</td>\n",
        "      <td> 40</td>\n",
        "      <td> 25</td>\n",
        "      <td> 68</td>\n",
        "      <td> W</td>\n",
        "    </tr>\n",
        "    <tr>\n",
        "      <th>82</th>\n",
        "      <td> Haute-Vienne</td>\n",
        "      <td> 55</td>\n",
        "      <td> 13</td>\n",
        "      <td> 67</td>\n",
        "      <td> C</td>\n",
        "    </tr>\n",
        "    <tr>\n",
        "      <th>83</th>\n",
        "      <td>       Vosges</td>\n",
        "      <td> 14</td>\n",
        "      <td> 62</td>\n",
        "      <td> 82</td>\n",
        "      <td> E</td>\n",
        "    </tr>\n",
        "    <tr>\n",
        "      <th>84</th>\n",
        "      <td>        Yonne</td>\n",
        "      <td> 51</td>\n",
        "      <td> 47</td>\n",
        "      <td> 30</td>\n",
        "      <td> C</td>\n",
        "    </tr>\n",
        "  </tbody>\n",
        "</table>\n",
        "</div>"
       ],
       "metadata": {},
       "output_type": "pyout",
       "prompt_number": 6,
       "text": [
        "      Department  Lottery  Literacy  Wealth Region\n",
        "80        Vendee       68        28      56      W\n",
        "81        Vienne       40        25      68      W\n",
        "82  Haute-Vienne       55        13      67      C\n",
        "83        Vosges       14        62      82      E\n",
        "84         Yonne       51        47      30      C"
       ]
      }
     ],
     "prompt_number": 6
    },
    {
     "cell_type": "code",
     "collapsed": false,
     "input": [
      " y, X = dmatrices('Lottery ~ Literacy + Wealth + Region', data=df, return_type='dataframe')"
     ],
     "language": "python",
     "metadata": {},
     "outputs": [],
     "prompt_number": 7
    },
    {
     "cell_type": "code",
     "collapsed": false,
     "input": [
      "mod = sm.OLS(y, X) "
     ],
     "language": "python",
     "metadata": {},
     "outputs": [],
     "prompt_number": 10
    },
    {
     "cell_type": "code",
     "collapsed": false,
     "input": [
      "res = mod.fit() "
     ],
     "language": "python",
     "metadata": {},
     "outputs": [],
     "prompt_number": 11
    },
    {
     "cell_type": "code",
     "collapsed": false,
     "input": [
      "print res.summary() "
     ],
     "language": "python",
     "metadata": {},
     "outputs": [
      {
       "output_type": "stream",
       "stream": "stdout",
       "text": [
        "                            OLS Regression Results                            \n",
        "==============================================================================\n",
        "Dep. Variable:                Lottery   R-squared:                       0.338\n",
        "Model:                            OLS   Adj. R-squared:                  0.287\n",
        "Method:                 Least Squares   F-statistic:                     6.636\n",
        "Date:                Sun, 25 Jan 2015   Prob (F-statistic):           1.07e-05\n",
        "Time:                        21:48:19   Log-Likelihood:                -375.30\n",
        "No. Observations:                  85   AIC:                             764.6\n",
        "Df Residuals:                      78   BIC:                             781.7\n",
        "Df Model:                           6                                         \n",
        "===============================================================================\n",
        "                  coef    std err          t      P>|t|      [95.0% Conf. Int.]\n",
        "-------------------------------------------------------------------------------\n",
        "Intercept      38.6517      9.456      4.087      0.000        19.826    57.478\n",
        "Region[T.E]   -15.4278      9.727     -1.586      0.117       -34.793     3.938\n",
        "Region[T.N]   -10.0170      9.260     -1.082      0.283       -28.453     8.419\n",
        "Region[T.S]    -4.5483      7.279     -0.625      0.534       -19.039     9.943\n",
        "Region[T.W]   -10.0913      7.196     -1.402      0.165       -24.418     4.235\n",
        "Literacy       -0.1858      0.210     -0.886      0.378        -0.603     0.232\n",
        "Wealth          0.4515      0.103      4.390      0.000         0.247     0.656\n",
        "==============================================================================\n",
        "Omnibus:                        3.049   Durbin-Watson:                   1.785\n",
        "Prob(Omnibus):                  0.218   Jarque-Bera (JB):                2.694\n",
        "Skew:                          -0.340   Prob(JB):                        0.260\n",
        "Kurtosis:                       2.454   Cond. No.                         371.\n",
        "==============================================================================\n"
       ]
      }
     ],
     "prompt_number": 12
    },
    {
     "cell_type": "code",
     "collapsed": false,
     "input": [
      "res.params"
     ],
     "language": "python",
     "metadata": {},
     "outputs": [
      {
       "metadata": {},
       "output_type": "pyout",
       "prompt_number": 13,
       "text": [
        "Intercept      38.651655\n",
        "Region[T.E]   -15.427785\n",
        "Region[T.N]   -10.016961\n",
        "Region[T.S]    -4.548257\n",
        "Region[T.W]   -10.091276\n",
        "Literacy       -0.185819\n",
        "Wealth          0.451475\n",
        "dtype: float64"
       ]
      }
     ],
     "prompt_number": 13
    },
    {
     "cell_type": "code",
     "collapsed": false,
     "input": [
      " res.rsquared"
     ],
     "language": "python",
     "metadata": {},
     "outputs": [
      {
       "metadata": {},
       "output_type": "pyout",
       "prompt_number": 14,
       "text": [
        "0.33795086919288209"
       ]
      }
     ],
     "prompt_number": 14
    },
    {
     "cell_type": "code",
     "collapsed": false,
     "input": [
      "sm.stats.linear_rainbow(res)"
     ],
     "language": "python",
     "metadata": {},
     "outputs": [
      {
       "metadata": {},
       "output_type": "pyout",
       "prompt_number": 15,
       "text": [
        "(0.84723399761569052, 0.69979655436216648)"
       ]
      }
     ],
     "prompt_number": 15
    },
    {
     "cell_type": "code",
     "collapsed": false,
     "input": [
      "print sm.stats.linear_rainbow.__doc__"
     ],
     "language": "python",
     "metadata": {},
     "outputs": [
      {
       "output_type": "stream",
       "stream": "stdout",
       "text": [
        "Rainbow test for linearity\n",
        "\n",
        "    The Null hypothesis is that the regression is correctly modelled as linear.\n",
        "    The alternative for which the power might be large are convex, check\n",
        "\n",
        "    Parameters\n",
        "    ----------\n",
        "    res : Result instance\n",
        "\n",
        "    Returns\n",
        "    -------\n",
        "    fstat : float\n",
        "        test statistic based of F test\n",
        "    pvalue : float\n",
        "        pvalue of the test\n",
        "\n",
        "    \n"
       ]
      }
     ],
     "prompt_number": 16
    },
    {
     "cell_type": "code",
     "collapsed": false,
     "input": [
      "sm.graphics.plot_partregress('Lottery', 'Wealth', ['Region', 'Literacy'],\n",
      "                              data=df, obs_labels=False)"
     ],
     "language": "python",
     "metadata": {},
     "outputs": [
      {
       "metadata": {},
       "output_type": "pyout",
       "png": "[encoded data removed]",
       "prompt_number": 17,
       "text": [
        "<matplotlib.figure.Figure at 0x5a97550>"
       ]
      },
      {
       "metadata": {},
       "output_type": "display_data",
       "png": "[encoded data removed]",
       "text": [
        "<matplotlib.figure.Figure at 0x5a97550>"
       ]
      }
     ],
     "prompt_number": 17
    },
    {
     "cell_type": "code",
     "collapsed": false,
     "input": [],
     "language": "python",
     "metadata": {},
     "outputs": []
    }
   ],
   "metadata": {}
  }
 ]
}