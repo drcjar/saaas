{
 "metadata": {
  "name": "",
  "signature": "sha256:e15af1fe439ad8ba119390580e7cbca957bd2005af264b6958ff9b480a0aad82"
 },
 "nbformat": 3,
 "nbformat_minor": 0,
 "worksheets": [
  {
   "cells": [
    {
     "cell_type": "code",
     "collapsed": false,
     "input": [
      "import pandas\n",
      "import pandas as pd\n",
      "from pandas import DataFrame\n",
      "import statsmodels.api as sm\n",
      "from patsy import dmatrices, dmatrix"
     ],
     "language": "python",
     "metadata": {},
     "outputs": [],
     "prompt_number": 1
    },
    {
     "cell_type": "code",
     "collapsed": false,
     "input": [
      "df = sm.datasets.get_rdataset(\"Guerry\", \"HistData\").data"
     ],
     "language": "python",
     "metadata": {},
     "outputs": [],
     "prompt_number": 2
    },
    {
     "cell_type": "code",
     "collapsed": false,
     "input": [
      "vars = ['Department', 'Lottery', 'Literacy', 'Wealth', 'Region']\n",
      "df = df[vars]"
     ],
     "language": "python",
     "metadata": {},
     "outputs": [],
     "prompt_number": 5
    },
    {
     "cell_type": "code",
     "collapsed": false,
     "input": [
      "df[-5:]\n",
      "df = df.dropna()"
     ],
     "language": "python",
     "metadata": {},
     "outputs": [],
     "prompt_number": 8
    },
    {
     "cell_type": "code",
     "collapsed": false,
     "input": [
      "df[-5:]"
     ],
     "language": "python",
     "metadata": {},
     "outputs": [
      {
       "html": [
        "<div style=\"max-height:1000px;max-width:1500px;overflow:auto;\">\n",
        "<table border=\"1\" class=\"dataframe\">\n",
        "  <thead>\n",
        "    <tr style=\"text-align: right;\">\n",
        "      <th></th>\n",
        "      <th>Department</th>\n",
        "      <th>Lottery</th>\n",
        "      <th>Literacy</th>\n",
        "      <th>Wealth</th>\n",
        "      <th>Region</th>\n",
        "    </tr>\n",
        "  </thead>\n",
        "  <tbody>\n",
        "    <tr>\n",
        "      <th>80</th>\n",
        "      <td>       Vendee</td>\n",
        "      <td> 68</td>\n",
        "      <td> 28</td>\n",
        "      <td> 56</td>\n",
        "      <td> W</td>\n",
        "    </tr>\n",
        "    <tr>\n",
        "      <th>81</th>\n",
        "      <td>       Vienne</td>\n",
        "      <td> 40</td>\n",
        "      <td> 25</td>\n",
        "      <td> 68</td>\n",
        "      <td> W</td>\n",
        "    </tr>\n",
        "    <tr>\n",
        "      <th>82</th>\n",
        "      <td> Haute-Vienne</td>\n",
        "      <td> 55</td>\n",
        "      <td> 13</td>\n",
        "      <td> 67</td>\n",
        "      <td> C</td>\n",
        "    </tr>\n",
        "    <tr>\n",
        "      <th>83</th>\n",
        "      <td>       Vosges</td>\n",
        "      <td> 14</td>\n",
        "      <td> 62</td>\n",
        "      <td> 82</td>\n",
        "      <td> E</td>\n",
        "    </tr>\n",
        "    <tr>\n",
        "      <th>84</th>\n",
        "      <td>        Yonne</td>\n",
        "      <td> 51</td>\n",
        "      <td> 47</td>\n",
        "      <td> 30</td>\n",
        "      <td> C</td>\n",
        "    </tr>\n",
        "  </tbody>\n",
        "</table>\n",
        "</div>"
       ],
       "metadata": {},
       "output_type": "pyout",
       "prompt_number": 9,
       "text": [
        "      Department  Lottery  Literacy  Wealth Region\n",
        "80        Vendee       68        28      56      W\n",
        "81        Vienne       40        25      68      W\n",
        "82  Haute-Vienne       55        13      67      C\n",
        "83        Vosges       14        62      82      E\n",
        "84         Yonne       51        47      30      C"
       ]
      }
     ],
     "prompt_number": 9
    },
    {
     "cell_type": "code",
     "collapsed": false,
     "input": [],
     "language": "python",
     "metadata": {},
     "outputs": []
    }
   ],
   "metadata": {}
  }
 ]
}