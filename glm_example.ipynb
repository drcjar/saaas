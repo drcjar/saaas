{
 "metadata": {
  "name": "",
  "signature": "sha256:1b05a36acbdafb80a69eaaf2db1bad24a3cecde9632b6795c13fb0c5d5adbc32"
 },
 "nbformat": 3,
 "nbformat_minor": 0,
 "worksheets": [
  {
   "cells": [
    {
     "cell_type": "code",
     "collapsed": false,
     "input": [
      "# Load modules and data\n",
      "import statsmodels.api as sm\n",
      "data = sm.datasets.scotland.load()\n",
      "data.exog = sm.add_constant(data.exog)\n",
      "\n",
      "# Instantiate a gamma family model with the default link function.\n",
      "gamma_model = sm.GLM(data.endog, data.exog, family=sm.families.Gamma())\n",
      "gamma_results = gamma_model.fit()"
     ],
     "language": "python",
     "metadata": {},
     "outputs": [],
     "prompt_number": 1
    },
    {
     "cell_type": "code",
     "collapsed": false,
     "input": [
      "print gamma_results.summary()"
     ],
     "language": "python",
     "metadata": {},
     "outputs": [
      {
       "output_type": "stream",
       "stream": "stdout",
       "text": [
        "                 Generalized Linear Model Regression Results                  \n",
        "==============================================================================\n",
        "Dep. Variable:                      y   No. Observations:                   32\n",
        "Model:                            GLM   Df Residuals:                       24\n",
        "Model Family:                   Gamma   Df Model:                            7\n",
        "Link Function:          inverse_power   Scale:                0.00358428317349\n",
        "Method:                          IRLS   Log-Likelihood:                -83.017\n",
        "Date:                Thu, 12 Feb 2015   Deviance:                     0.087389\n",
        "Time:                        10:47:48   Pearson chi2:                   0.0860\n",
        "No. Iterations:                     5                                         \n",
        "==============================================================================\n",
        "                 coef    std err          t      P>|t|      [95.0% Conf. Int.]\n",
        "------------------------------------------------------------------------------\n",
        "const         -0.0178      0.011     -1.548      0.122        -0.040     0.005\n",
        "x1          4.962e-05   1.62e-05      3.060      0.002      1.78e-05  8.14e-05\n",
        "x2             0.0020      0.001      3.824      0.000         0.001     0.003\n",
        "x3         -7.181e-05   2.71e-05     -2.648      0.008        -0.000 -1.87e-05\n",
        "x4             0.0001   4.06e-05      2.757      0.006      3.23e-05     0.000\n",
        "x5         -1.468e-07   1.24e-07     -1.187      0.235     -3.89e-07  9.56e-08\n",
        "x6            -0.0005      0.000     -2.159      0.031        -0.001 -4.78e-05\n",
        "x7         -2.427e-06   7.46e-07     -3.253      0.001     -3.89e-06 -9.65e-07\n",
        "==============================================================================\n"
       ]
      }
     ],
     "prompt_number": 2
    },
    {
     "cell_type": "code",
     "collapsed": false,
     "input": [
      "from __future__ import print_function\n",
      "import numpy as np\n",
      "import statsmodels.api as sm\n",
      "from scipy import stats\n",
      "from matplotlib import pyplot as plt"
     ],
     "language": "python",
     "metadata": {},
     "outputs": [],
     "prompt_number": 7
    },
    {
     "cell_type": "code",
     "collapsed": false,
     "input": [
      "print(sm.datasets.star98.NOTE)"
     ],
     "language": "python",
     "metadata": {},
     "outputs": [
      {
       "output_type": "stream",
       "stream": "stdout",
       "text": [
        "\n",
        "Number of Observations - 303 (counties in California).\n",
        "\n",
        "Number of Variables - 13 and 8 interaction terms.\n",
        "\n",
        "Definition of variables names::\n",
        "\n",
        "    NABOVE   - Total number of students above the national median for the math\n",
        "               section.\n",
        "    NBELOW   - Total number of students below the national median for the math\n",
        "               section.\n",
        "    LOWINC   - Percentage of low income students\n",
        "    PERASIAN - Percentage of Asian student\n",
        "    PERBLACK - Percentage of black students\n",
        "    PERHISP  - Percentage of Hispanic students\n",
        "    PERMINTE - Percentage of minority teachers\n",
        "    AVYRSEXP - Sum of teachers' years in educational service divided by the\n",
        "               number of teachers.\n",
        "    AVSALK   - Total salary budget including benefits divided by the number of\n",
        "               full-time teachers (in thousands)\n",
        "    PERSPENK - Per-pupil spending (in thousands)\n",
        "    PTRATIO  - Pupil-teacher ratio.\n",
        "    PCTAF    - Percentage of students taking UC/CSU prep courses\n",
        "    PCTCHRT  - Percentage of charter schools\n",
        "    PCTYRRND - Percentage of year-round schools\n",
        "\n",
        "    The below variables are interaction terms of the variables defined above.\n",
        "\n",
        "    PERMINTE_AVYRSEXP\n",
        "    PEMINTE_AVSAL\n",
        "    AVYRSEXP_AVSAL\n",
        "    PERSPEN_PTRATIO\n",
        "    PERSPEN_PCTAF\n",
        "    PTRATIO_PCTAF\n",
        "    PERMINTE_AVTRSEXP_AVSAL\n",
        "    PERSPEN_PTRATIO_PCTAF\n",
        "\n"
       ]
      }
     ],
     "prompt_number": 9
    },
    {
     "cell_type": "code",
     "collapsed": false,
     "input": [
      "data = sm.datasets.star98.load()\n",
      "data.exog = sm.add_constant(data.exog, prepend=False)"
     ],
     "language": "python",
     "metadata": {},
     "outputs": [],
     "prompt_number": 10
    },
    {
     "cell_type": "code",
     "collapsed": false,
     "input": [
      "print(data.endog[:5,:])"
     ],
     "language": "python",
     "metadata": {},
     "outputs": [
      {
       "output_type": "stream",
       "stream": "stdout",
       "text": [
        "[[ 452.  355.]\n",
        " [ 144.   40.]\n",
        " [ 337.  234.]\n",
        " [ 395.  178.]\n",
        " [   8.   57.]]\n"
       ]
      }
     ],
     "prompt_number": 12
    },
    {
     "cell_type": "code",
     "collapsed": false,
     "input": [
      "print(data.exog[:2,:])"
     ],
     "language": "python",
     "metadata": {},
     "outputs": [
      {
       "output_type": "stream",
       "stream": "stdout",
       "text": [
        "[[  3.43973000e+01   2.32993000e+01   1.42352800e+01   1.14111200e+01\n",
        "    1.59183700e+01   1.47064600e+01   5.91573200e+01   4.44520700e+00\n",
        "    2.17102500e+01   5.70327600e+01   0.00000000e+00   2.22222200e+01\n",
        "    2.34102872e+02   9.41688110e+02   8.69994800e+02   9.65065600e+01\n",
        "    2.53522420e+02   1.23819550e+03   1.38488985e+04   5.50403520e+03\n",
        "    1.00000000e+00]\n",
        " [  1.73650700e+01   2.93283800e+01   8.23489700e+00   9.31488400e+00\n",
        "    1.36363600e+01   1.60832400e+01   5.95039700e+01   5.26759800e+00\n",
        "    2.04427800e+01   6.46226400e+01   0.00000000e+00   0.00000000e+00\n",
        "    2.19316851e+02   8.11417560e+02   9.57016600e+02   1.07684350e+02\n",
        "    3.40406090e+02   1.32106640e+03   1.30502233e+04   6.95884680e+03\n",
        "    1.00000000e+00]]\n"
       ]
      }
     ],
     "prompt_number": 13
    },
    {
     "cell_type": "code",
     "collapsed": false,
     "input": [],
     "language": "python",
     "metadata": {},
     "outputs": []
    }
   ],
   "metadata": {}
  }
 ]
}