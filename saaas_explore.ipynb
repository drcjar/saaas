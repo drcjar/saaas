{
 "metadata": {
  "name": "",
  "signature": "sha256:e96707a0816a6cb01935437cbeeae791ade42c6646a61ae9bb9f00c802d24021"
 },
 "nbformat": 3,
 "nbformat_minor": 0,
 "worksheets": [
  {
   "cells": [
    {
     "cell_type": "code",
     "collapsed": false,
     "input": [
      "import pandas\n",
      "import pandas as pd"
     ],
     "language": "python",
     "metadata": {},
     "outputs": [],
     "prompt_number": 1
    },
    {
     "cell_type": "code",
     "collapsed": false,
     "input": [
      "df = pd.read_excel('Final_data.xlsx')"
     ],
     "language": "python",
     "metadata": {},
     "outputs": [],
     "prompt_number": 2
    },
    {
     "cell_type": "code",
     "collapsed": false,
     "input": [
      "df.head()"
     ],
     "language": "python",
     "metadata": {},
     "outputs": [
      {
       "html": [
        "<div style=\"max-height:1000px;max-width:1500px;overflow:auto;\">\n",
        "<table border=\"1\" class=\"dataframe\">\n",
        "  <thead>\n",
        "    <tr style=\"text-align: right;\">\n",
        "      <th></th>\n",
        "      <th>ID</th>\n",
        "      <th>Data_year</th>\n",
        "      <th>Occupation</th>\n",
        "      <th>Age</th>\n",
        "      <th>Mortality</th>\n",
        "      <th>Denominator</th>\n",
        "      <th>Social_class</th>\n",
        "      <th>Indoor/Outdoor</th>\n",
        "    </tr>\n",
        "  </thead>\n",
        "  <tbody>\n",
        "    <tr>\n",
        "      <th>0</th>\n",
        "      <td> 3170</td>\n",
        "      <td> 1890-1892</td>\n",
        "      <td> Artist, engraver, sculptor, architect</td>\n",
        "      <td>   &gt;65</td>\n",
        "      <td>  4</td>\n",
        "      <td>  2682</td>\n",
        "      <td> 1</td>\n",
        "      <td> 1</td>\n",
        "    </tr>\n",
        "    <tr>\n",
        "      <th>1</th>\n",
        "      <td>   36</td>\n",
        "      <td> 1890-1892</td>\n",
        "      <td> Artist, engraver, sculptor, architect</td>\n",
        "      <td> 15-19</td>\n",
        "      <td>  5</td>\n",
        "      <td>  3891</td>\n",
        "      <td> 1</td>\n",
        "      <td> 1</td>\n",
        "    </tr>\n",
        "    <tr>\n",
        "      <th>2</th>\n",
        "      <td>   37</td>\n",
        "      <td> 1890-1892</td>\n",
        "      <td> Artist, engraver, sculptor, architect</td>\n",
        "      <td> 20-24</td>\n",
        "      <td> 21</td>\n",
        "      <td>  7140</td>\n",
        "      <td> 1</td>\n",
        "      <td> 1</td>\n",
        "    </tr>\n",
        "    <tr>\n",
        "      <th>3</th>\n",
        "      <td>   38</td>\n",
        "      <td> 1890-1892</td>\n",
        "      <td> Artist, engraver, sculptor, architect</td>\n",
        "      <td> 25-34</td>\n",
        "      <td> 34</td>\n",
        "      <td> 14829</td>\n",
        "      <td> 1</td>\n",
        "      <td> 1</td>\n",
        "    </tr>\n",
        "    <tr>\n",
        "      <th>4</th>\n",
        "      <td>   39</td>\n",
        "      <td> 1890-1892</td>\n",
        "      <td> Artist, engraver, sculptor, architect</td>\n",
        "      <td> 35-44</td>\n",
        "      <td> 24</td>\n",
        "      <td> 10917</td>\n",
        "      <td> 1</td>\n",
        "      <td> 1</td>\n",
        "    </tr>\n",
        "  </tbody>\n",
        "</table>\n",
        "</div>"
       ],
       "metadata": {},
       "output_type": "pyout",
       "prompt_number": 3,
       "text": [
        "     ID  Data_year                             Occupation    Age  Mortality  \\\n",
        "0  3170  1890-1892  Artist, engraver, sculptor, architect    >65          4   \n",
        "1    36  1890-1892  Artist, engraver, sculptor, architect  15-19          5   \n",
        "2    37  1890-1892  Artist, engraver, sculptor, architect  20-24         21   \n",
        "3    38  1890-1892  Artist, engraver, sculptor, architect  25-34         34   \n",
        "4    39  1890-1892  Artist, engraver, sculptor, architect  35-44         24   \n",
        "\n",
        "   Denominator  Social_class  Indoor/Outdoor  \n",
        "0         2682             1               1  \n",
        "1         3891             1               1  \n",
        "2         7140             1               1  \n",
        "3        14829             1               1  \n",
        "4        10917             1               1  "
       ]
      }
     ],
     "prompt_number": 3
    },
    {
     "cell_type": "code",
     "collapsed": false,
     "input": [
      "df1 = df.groupby('Occupation').Mortality.sum()\n",
      "df1.sort()\n",
      "df1"
     ],
     "language": "python",
     "metadata": {},
     "outputs": [
      {
       "metadata": {},
       "output_type": "pyout",
       "prompt_number": 4,
       "text": [
        "Occupation\n",
        "Cycle and motor manufacture                                      3\n",
        "Patent fuel manufacture                                         11\n",
        "Coppersmiths, copper worker (counties without Copper Smelting)    19\n",
        "Copper manuf. (Camarthenshire & Glamorganshire)                 21\n",
        "Straw plait, straw hat, straw bonnet - manufacture              23\n",
        "Cotton stripers & grinders                                      25\n",
        "Copper miner                                                    25\n",
        "Printers - machine compositors; stereotypers, electrotypers     27\n",
        "Iron - miners, quarriers (Cumberland & Lancashire)              28\n",
        "Coke burner                                                     29\n",
        "Patten, clog - makers (Lancashire)                              32\n",
        "Plaster, cement - manufacture                                   35\n",
        "Electricity supply                                              36\n",
        "Felt hat manufacture (Cheshire)                                 40\n",
        "Stone getters, dressers; masons (counties producing granites)    40\n",
        "...\n",
        "Seaman, &c, merchant service                           2974\n",
        "Engine, machine-maker, fitter; millwright              2982\n",
        "General labourer (industrial districts)                3151\n",
        "Plumber, painter, glazier                              3302\n",
        "Tailor                                                 3319\n",
        "Carpenter, joiner                                      3911\n",
        "Carman, carrier, &c                                    4256\n",
        "Coach and cab service, groom, &c                       4257\n",
        "Commercial clerk, insurance service                    4332\n",
        "Engine, machine, boiler, maker, fitter; millwright     4892\n",
        "Shoemaker                                              5180\n",
        "Bricklayer, mason, builder                             5261\n",
        "Farm labourer, farm servant                            6112\n",
        "Coal miner                                             6138\n",
        "General labourer                                      20616\n",
        "Name: Mortality, Length: 207, dtype: int64"
       ]
      }
     ],
     "prompt_number": 4
    },
    {
     "cell_type": "code",
     "collapsed": false,
     "input": [
      "df.Occupation.nunique()"
     ],
     "language": "python",
     "metadata": {},
     "outputs": [
      {
       "metadata": {},
       "output_type": "pyout",
       "prompt_number": 5,
       "text": [
        "207"
       ]
      }
     ],
     "prompt_number": 5
    },
    {
     "cell_type": "code",
     "collapsed": false,
     "input": [
      "df.Mortality.sum()"
     ],
     "language": "python",
     "metadata": {},
     "outputs": [
      {
       "metadata": {},
       "output_type": "pyout",
       "prompt_number": 6,
       "text": [
        "192495"
       ]
      }
     ],
     "prompt_number": 6
    },
    {
     "cell_type": "code",
     "collapsed": false,
     "input": [
      "df.Denominator.sum()"
     ],
     "language": "python",
     "metadata": {},
     "outputs": [
      {
       "metadata": {},
       "output_type": "pyout",
       "prompt_number": 7,
       "text": [
        "96684893"
       ]
      }
     ],
     "prompt_number": 7
    },
    {
     "cell_type": "code",
     "collapsed": false,
     "input": [
      "df2 = pd.DataFrame(df.groupby('Occupation').Mortality.sum()).reset_index()"
     ],
     "language": "python",
     "metadata": {},
     "outputs": [],
     "prompt_number": 8
    },
    {
     "cell_type": "code",
     "collapsed": false,
     "input": [
      "df3 = pd.DataFrame(df.groupby('Occupation').Denominator.sum()).reset_index()"
     ],
     "language": "python",
     "metadata": {},
     "outputs": [],
     "prompt_number": 9
    },
    {
     "cell_type": "code",
     "collapsed": false,
     "input": [
      "df4 = pd.merge(df2, df3, on='Occupation')"
     ],
     "language": "python",
     "metadata": {},
     "outputs": [],
     "prompt_number": 10
    },
    {
     "cell_type": "code",
     "collapsed": false,
     "input": [
      "df4['CrudeRate'] = (df4.Mortality / df4.Denominator) * 1000"
     ],
     "language": "python",
     "metadata": {},
     "outputs": [],
     "prompt_number": 11
    },
    {
     "cell_type": "code",
     "collapsed": false,
     "input": [
      "df4.sort(['CrudeRate'], ascending=False).head()"
     ],
     "language": "python",
     "metadata": {},
     "outputs": [
      {
       "html": [
        "<div style=\"max-height:1000px;max-width:1500px;overflow:auto;\">\n",
        "<table border=\"1\" class=\"dataframe\">\n",
        "  <thead>\n",
        "    <tr style=\"text-align: right;\">\n",
        "      <th></th>\n",
        "      <th>Occupation</th>\n",
        "      <th>Mortality</th>\n",
        "      <th>Denominator</th>\n",
        "      <th>CrudeRate</th>\n",
        "    </tr>\n",
        "  </thead>\n",
        "  <tbody>\n",
        "    <tr>\n",
        "      <th>189</th>\n",
        "      <td>                    Tin miner</td>\n",
        "      <td>  455</td>\n",
        "      <td>  68091</td>\n",
        "      <td> 6.682234</td>\n",
        "    </tr>\n",
        "    <tr>\n",
        "      <th>90 </th>\n",
        "      <td>    General labourer (London)</td>\n",
        "      <td> 2442</td>\n",
        "      <td> 439311</td>\n",
        "      <td> 5.558704</td>\n",
        "    </tr>\n",
        "    <tr>\n",
        "      <th>102</th>\n",
        "      <td> Inn, hotel, servant (London)</td>\n",
        "      <td>  655</td>\n",
        "      <td> 121323</td>\n",
        "      <td> 5.398811</td>\n",
        "    </tr>\n",
        "    <tr>\n",
        "      <th>63 </th>\n",
        "      <td>       Cutler, scissors maker</td>\n",
        "      <td>  734</td>\n",
        "      <td> 138831</td>\n",
        "      <td> 5.287004</td>\n",
        "    </tr>\n",
        "    <tr>\n",
        "      <th>56 </th>\n",
        "      <td>     Costermonger, hawker, &amp;c</td>\n",
        "      <td> 2276</td>\n",
        "      <td> 434667</td>\n",
        "      <td> 5.236192</td>\n",
        "    </tr>\n",
        "  </tbody>\n",
        "</table>\n",
        "</div>"
       ],
       "metadata": {},
       "output_type": "pyout",
       "prompt_number": 12,
       "text": [
        "                       Occupation  Mortality  Denominator  CrudeRate\n",
        "189                     Tin miner        455        68091   6.682234\n",
        "90      General labourer (London)       2442       439311   5.558704\n",
        "102  Inn, hotel, servant (London)        655       121323   5.398811\n",
        "63         Cutler, scissors maker        734       138831   5.287004\n",
        "56       Costermonger, hawker, &c       2276       434667   5.236192"
       ]
      }
     ],
     "prompt_number": 12
    },
    {
     "cell_type": "code",
     "collapsed": false,
     "input": [
      "df4.boxplot('CrudeRate')"
     ],
     "language": "python",
     "metadata": {},
     "outputs": [
      {
       "output_type": "stream",
       "stream": "stderr",
       "text": [
        "/home/sam/Dropbox/Documents/pypf-virtualenv/local/lib/python2.7/site-packages/pandas/tools/plotting.py:2380: FutureWarning: \n",
        "The default value for 'return_type' will change to 'axes' in a future release.\n",
        " To use the future behavior now, set return_type='axes'.\n",
        " To keep the previous behavior and silence this warning, set return_type='dict'.\n",
        "  warnings.warn(msg, FutureWarning)\n"
       ]
      },
      {
       "metadata": {},
       "output_type": "pyout",
       "prompt_number": 13,
       "text": [
        "{'boxes': [<matplotlib.lines.Line2D at 0x506c810>],\n",
        " 'caps': [<matplotlib.lines.Line2D at 0x5068b50>,\n",
        "  <matplotlib.lines.Line2D at 0x506c1d0>],\n",
        " 'fliers': [<matplotlib.lines.Line2D at 0x506e4d0>,\n",
        "  <matplotlib.lines.Line2D at 0x506ead0>],\n",
        " 'medians': [<matplotlib.lines.Line2D at 0x506ce50>],\n",
        " 'whiskers': [<matplotlib.lines.Line2D at 0x50682d0>,\n",
        "  <matplotlib.lines.Line2D at 0x5068550>]}"
       ]
      },
      {
       "metadata": {},
       "output_type": "display_data",
       "png": "[encoded data removed]",
       "text": [
        "<matplotlib.figure.Figure at 0x4eea650>"
       ]
      }
     ],
     "prompt_number": 13
    },
    {
     "cell_type": "code",
     "collapsed": false,
     "input": [
      "df.groupby('Occupation')['Indoor/Outdoor'].head()"
     ],
     "language": "python",
     "metadata": {},
     "outputs": [
      {
       "metadata": {},
       "output_type": "pyout",
       "prompt_number": 101,
       "text": [
        "0     1\n",
        "1     1\n",
        "2     1\n",
        "3     1\n",
        "4     1\n",
        "7     2\n",
        "8     2\n",
        "9     2\n",
        "10    2\n",
        "11    2\n",
        "14    1\n",
        "15    1\n",
        "16    1\n",
        "17    1\n",
        "18    1\n",
        "...\n",
        "3117    0\n",
        "3118    0\n",
        "3119    0\n",
        "3120    0\n",
        "3121    0\n",
        "3141    2\n",
        "3142    2\n",
        "3143    2\n",
        "3144    2\n",
        "3145    2\n",
        "3157    0\n",
        "3158    0\n",
        "3159    0\n",
        "3160    0\n",
        "3161    0\n",
        "Name: Indoor/Outdoor, Length: 1031, dtype: int64"
       ]
      }
     ],
     "prompt_number": 101
    },
    {
     "cell_type": "code",
     "collapsed": false,
     "input": [],
     "language": "python",
     "metadata": {},
     "outputs": []
    }
   ],
   "metadata": {}
  }
 ]
}