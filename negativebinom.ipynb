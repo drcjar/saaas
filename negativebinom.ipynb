{
 "metadata": {
  "name": "",
  "signature": "sha256:e6f6557e00de93f551579599da1e98273973e1345288c4225c7b5fd915b3c763"
 },
 "nbformat": 3,
 "nbformat_minor": 0,
 "worksheets": [
  {
   "cells": [
    {
     "cell_type": "code",
     "collapsed": false,
     "input": [
      "import pandas as pd"
     ],
     "language": "python",
     "metadata": {},
     "outputs": [],
     "prompt_number": 1
    },
    {
     "cell_type": "code",
     "collapsed": false,
     "input": [
      "url = 'http://vincentarelbundock.github.com/Rdatasets/csv/COUNT/medpar.csv'"
     ],
     "language": "python",
     "metadata": {},
     "outputs": [],
     "prompt_number": 2
    },
    {
     "cell_type": "code",
     "collapsed": false,
     "input": [
      "medpar = pd.read_csv(url)"
     ],
     "language": "python",
     "metadata": {},
     "outputs": [],
     "prompt_number": 3
    },
    {
     "cell_type": "code",
     "collapsed": false,
     "input": [
      "medpar.head()"
     ],
     "language": "python",
     "metadata": {},
     "outputs": [
      {
       "html": [
        "<div style=\"max-height:1000px;max-width:1500px;overflow:auto;\">\n",
        "<table border=\"1\" class=\"dataframe\">\n",
        "  <thead>\n",
        "    <tr style=\"text-align: right;\">\n",
        "      <th></th>\n",
        "      <th>Unnamed: 0</th>\n",
        "      <th>los</th>\n",
        "      <th>hmo</th>\n",
        "      <th>white</th>\n",
        "      <th>died</th>\n",
        "      <th>age80</th>\n",
        "      <th>type</th>\n",
        "      <th>type1</th>\n",
        "      <th>type2</th>\n",
        "      <th>type3</th>\n",
        "      <th>provnum</th>\n",
        "    </tr>\n",
        "  </thead>\n",
        "  <tbody>\n",
        "    <tr>\n",
        "      <th>0</th>\n",
        "      <td> 1</td>\n",
        "      <td> 4</td>\n",
        "      <td> 0</td>\n",
        "      <td> 1</td>\n",
        "      <td> 0</td>\n",
        "      <td> 0</td>\n",
        "      <td> 1</td>\n",
        "      <td> 1</td>\n",
        "      <td> 0</td>\n",
        "      <td> 0</td>\n",
        "      <td> 30001</td>\n",
        "    </tr>\n",
        "    <tr>\n",
        "      <th>1</th>\n",
        "      <td> 2</td>\n",
        "      <td> 9</td>\n",
        "      <td> 1</td>\n",
        "      <td> 1</td>\n",
        "      <td> 0</td>\n",
        "      <td> 0</td>\n",
        "      <td> 1</td>\n",
        "      <td> 1</td>\n",
        "      <td> 0</td>\n",
        "      <td> 0</td>\n",
        "      <td> 30001</td>\n",
        "    </tr>\n",
        "    <tr>\n",
        "      <th>2</th>\n",
        "      <td> 3</td>\n",
        "      <td> 3</td>\n",
        "      <td> 1</td>\n",
        "      <td> 1</td>\n",
        "      <td> 1</td>\n",
        "      <td> 1</td>\n",
        "      <td> 1</td>\n",
        "      <td> 1</td>\n",
        "      <td> 0</td>\n",
        "      <td> 0</td>\n",
        "      <td> 30001</td>\n",
        "    </tr>\n",
        "    <tr>\n",
        "      <th>3</th>\n",
        "      <td> 4</td>\n",
        "      <td> 9</td>\n",
        "      <td> 0</td>\n",
        "      <td> 1</td>\n",
        "      <td> 0</td>\n",
        "      <td> 0</td>\n",
        "      <td> 1</td>\n",
        "      <td> 1</td>\n",
        "      <td> 0</td>\n",
        "      <td> 0</td>\n",
        "      <td> 30001</td>\n",
        "    </tr>\n",
        "    <tr>\n",
        "      <th>4</th>\n",
        "      <td> 5</td>\n",
        "      <td> 1</td>\n",
        "      <td> 0</td>\n",
        "      <td> 1</td>\n",
        "      <td> 1</td>\n",
        "      <td> 1</td>\n",
        "      <td> 1</td>\n",
        "      <td> 1</td>\n",
        "      <td> 0</td>\n",
        "      <td> 0</td>\n",
        "      <td> 30001</td>\n",
        "    </tr>\n",
        "  </tbody>\n",
        "</table>\n",
        "</div>"
       ],
       "metadata": {},
       "output_type": "pyout",
       "prompt_number": 4,
       "text": [
        "   Unnamed: 0  los  hmo  white  died  age80  type  type1  type2  type3  \\\n",
        "0           1    4    0      1     0      0     1      1      0      0   \n",
        "1           2    9    1      1     0      0     1      1      0      0   \n",
        "2           3    3    1      1     1      1     1      1      0      0   \n",
        "3           4    9    0      1     0      0     1      1      0      0   \n",
        "4           5    1    0      1     1      1     1      1      0      0   \n",
        "\n",
        "   provnum  \n",
        "0    30001  \n",
        "1    30001  \n",
        "2    30001  \n",
        "3    30001  \n",
        "4    30001  "
       ]
      }
     ],
     "prompt_number": 4
    },
    {
     "cell_type": "code",
     "collapsed": false,
     "input": [
      "import patsy"
     ],
     "language": "python",
     "metadata": {},
     "outputs": [],
     "prompt_number": 5
    },
    {
     "cell_type": "code",
     "collapsed": false,
     "input": [
      "y, X = patsy.dmatrices('los~type2+type3+hmo+white', medpar)"
     ],
     "language": "python",
     "metadata": {},
     "outputs": [],
     "prompt_number": 6
    },
    {
     "cell_type": "code",
     "collapsed": false,
     "input": [
      "print y[:1]"
     ],
     "language": "python",
     "metadata": {},
     "outputs": [
      {
       "output_type": "stream",
       "stream": "stdout",
       "text": [
        "[[ 4.]]\n"
       ]
      }
     ],
     "prompt_number": 9
    },
    {
     "cell_type": "code",
     "collapsed": false,
     "input": [
      "X[:1]"
     ],
     "language": "python",
     "metadata": {},
     "outputs": [
      {
       "metadata": {},
       "output_type": "pyout",
       "prompt_number": 10,
       "text": [
        "array([[ 1.,  0.,  0.,  0.,  1.]])"
       ]
      }
     ],
     "prompt_number": 10
    },
    {
     "cell_type": "code",
     "collapsed": false,
     "input": [
      "import numpy as np\n",
      "from scipy.stats import nbinom\n",
      "def _ll_nb2(y, X, beta, alph):\n",
      "     mu = np.exp(np.dot(X, beta))\n",
      "     size = 1 / alph\n",
      "     prob = size / (size + mu)\n",
      "     ll = nbinom.logpmf(y, size, prob)\n",
      "     return ll"
     ],
     "language": "python",
     "metadata": {},
     "outputs": [],
     "prompt_number": 20
    },
    {
     "cell_type": "code",
     "collapsed": false,
     "input": [
      "from statsmodels.base.model import GenericLikelihoodModel\n",
      "\n",
      "class NBin(GenericLikelihoodModel):\n",
      "     def __init__(self, endog, exog, **kwds):\n",
      "         super(NBin, self).__init__(endog, exog, **kwds)\n",
      "     def nloglikeobs(self, params):\n",
      "         alph = params[-1]\n",
      "         beta = params[:-1]\n",
      "         ll = _ll_nb2(self.endog, self.exog, beta, alph)\n",
      "         return -ll\n",
      "     def fit(self, start_params=None, maxiter=10000, maxfun=5000, **kwds):\n",
      "         if start_params == None:\n",
      "             # Reasonable starting values\n",
      "             start_params = np.append(np.zeros(self.exog.shape[1]), .5)\n",
      "             start_params[0] = np.log(self.endog.mean())\n",
      "         return super(NBin, self).fit(start_params=start_params,\n",
      "                                      maxiter=maxiter, maxfun=maxfun,\n",
      "                                      **kwds)\n",
      "\n",
      "                \n",
      "y, X = patsy.dmatrices('los~type2+type3+hmo+white', medpar)\n",
      "mod = NBin(y, X)\n",
      "res = mod.fit()\n",
      "print res.summary()"
     ],
     "language": "python",
     "metadata": {},
     "outputs": [],
     "prompt_number": 17
    },
    {
     "cell_type": "code",
     "collapsed": false,
     "input": [
      "mod = NBin(y, X)"
     ],
     "language": "python",
     "metadata": {},
     "outputs": [],
     "prompt_number": 21
    },
    {
     "cell_type": "code",
     "collapsed": false,
     "input": [
      "res = mod.fit()"
     ],
     "language": "python",
     "metadata": {},
     "outputs": [
      {
       "output_type": "stream",
       "stream": "stdout",
       "text": [
        "Optimization terminated successfully.\n",
        "         Current function value: 3.209014\n",
        "         Iterations: 805\n",
        "         Function evaluations: 1238\n"
       ]
      }
     ],
     "prompt_number": 22
    },
    {
     "cell_type": "code",
     "collapsed": false,
     "input": [
      "print res.summary()"
     ],
     "language": "python",
     "metadata": {},
     "outputs": [
      {
       "output_type": "stream",
       "stream": "stdout",
       "text": [
        "                                 NBin Results                                 \n",
        "==============================================================================\n",
        "Dep. Variable:                    los   Log-Likelihood:                -4797.5\n",
        "Model:                           NBin   AIC:                             9605.\n",
        "Method:            Maximum Likelihood   BIC:                             9632.\n",
        "Date:                Sat, 14 Feb 2015                                         \n",
        "Time:                        09:11:39                                         \n",
        "No. Observations:                1495                                         \n",
        "Df Residuals:                    1490                                         \n",
        "Df Model:                           4                                         \n",
        "==============================================================================\n",
        "                 coef    std err          z      P>|z|      [95.0% Conf. Int.]\n",
        "------------------------------------------------------------------------------\n",
        "Intercept      2.3103      0.068     34.000      0.000         2.177     2.443\n",
        "type2          0.2213      0.051      4.373      0.000         0.122     0.320\n",
        "type3          0.7061      0.076      9.275      0.000         0.557     0.855\n",
        "hmo           -0.0680      0.053     -1.276      0.202        -0.172     0.036\n",
        "white         -0.1290      0.069     -1.883      0.060        -0.263     0.005\n",
        "par0           0.4458      0.020     22.495      0.000         0.407     0.485\n",
        "==============================================================================\n"
       ]
      }
     ],
     "prompt_number": 25
    },
    {
     "cell_type": "code",
     "collapsed": false,
     "input": [],
     "language": "python",
     "metadata": {},
     "outputs": []
    }
   ],
   "metadata": {}
  }
 ]
}